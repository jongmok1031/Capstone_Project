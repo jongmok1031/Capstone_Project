{
 "cells": [
  {
   "cell_type": "code",
   "execution_count": 1,
   "metadata": {},
   "outputs": [],
   "source": [
    "import pandas as pd\n",
    "import numpy as np"
   ]
  },
  {
   "cell_type": "markdown",
   "metadata": {},
   "source": [
    "### getting companie and their reprisk"
   ]
  },
  {
   "cell_type": "code",
   "execution_count": 2,
   "metadata": {},
   "outputs": [],
   "source": [
    "import wrds"
   ]
  },
  {
   "cell_type": "code",
   "execution_count": 85,
   "metadata": {},
   "outputs": [
    {
     "name": "stdout",
     "output_type": "stream",
     "text": [
      "Loading library list...\n",
      "Done\n"
     ]
    }
   ],
   "source": [
    "conn = wrds.Connection(wrds_username='jongmok1031')"
   ]
  },
  {
   "cell_type": "code",
   "execution_count": 4,
   "metadata": {},
   "outputs": [],
   "source": [
    "query = conn.raw_sql(\"\"\"select ri.*, ci.primary_ISIN, ci.name\n",
    "                        from reprisk.pm_rri_data ri\n",
    "                        left join reprisk.pm_company_identifiers ci\n",
    "                        on ri.reprisk_id = ci.reprisk_id\n",
    "                        where ci.headquarter_country = 'United States of America' and ri.date > '2020-01-01' and ci.primary_isin is not null\n",
    "                        \"\"\", date_cols=['date'])\n",
    "US_companies = pd.DataFrame(data=query)"
   ]
  },
  {
   "cell_type": "code",
   "execution_count": 6,
   "metadata": {},
   "outputs": [
    {
     "data": {
      "text/plain": [
       "4601"
      ]
     },
     "execution_count": 6,
     "metadata": {},
     "output_type": "execute_result"
    }
   ],
   "source": [
    "US_companies['primary_isin'].nunique()"
   ]
  },
  {
   "cell_type": "code",
   "execution_count": 7,
   "metadata": {},
   "outputs": [
    {
     "data": {
      "text/plain": [
       "4601"
      ]
     },
     "execution_count": 7,
     "metadata": {},
     "output_type": "execute_result"
    }
   ],
   "source": [
    "US_companies['name'].nunique()"
   ]
  },
  {
   "cell_type": "markdown",
   "metadata": {},
   "source": [
    "### getting tickers for the companies above"
   ]
  },
  {
   "cell_type": "code",
   "execution_count": 54,
   "metadata": {},
   "outputs": [],
   "source": [
    "from time import sleep\n",
    "import requests\n",
    "import timeit"
   ]
  },
  {
   "cell_type": "code",
   "execution_count": 9,
   "metadata": {},
   "outputs": [],
   "source": [
    "isins = list(US_companies['primary_isin'].unique())"
   ]
  },
  {
   "cell_type": "code",
   "execution_count": 24,
   "metadata": {},
   "outputs": [],
   "source": [
    "def get_us_ticker_form_isin(isin):\n",
    "\n",
    "    # https://www.openfigi.com/api\n",
    "    #import requests\n",
    "\n",
    "    url = 'https://api.openfigi.com/v1/mapping'\n",
    "    headers = {'Content-Type':'text/json', 'X-OPENFIGI-APIKEY':'46a82b66-6569-4077-b14a-2aa771bb933f' }\n",
    "    payload = '[{\"idType\":\"ID_ISIN\",\"idValue\":\"' + isin + '\"}]'\n",
    "\n",
    "    r = requests.post(url, headers=headers, data=payload)\n",
    "    \n",
    "    try:\n",
    "        return r.json()[0].get('data')[0].get('ticker')\n",
    "    except:\n",
    "        return 'fail'"
   ]
  },
  {
   "cell_type": "code",
   "execution_count": 67,
   "metadata": {},
   "outputs": [
    {
     "name": "stdout",
     "output_type": "stream",
     "text": [
      "25 isins done 4576 to go\n",
      "25 isins done 4551 to go\n",
      "25 isins done 4526 to go\n",
      "25 isins done 4501 to go\n",
      "25 isins done 4476 to go\n",
      "25 isins done 4451 to go\n",
      "25 isins done 4426 to go\n",
      "25 isins done 4401 to go\n",
      "25 isins done 4376 to go\n",
      "25 isins done 4351 to go\n",
      "25 isins done 4326 to go\n",
      "25 isins done 4301 to go\n",
      "25 isins done 4276 to go\n",
      "25 isins done 4251 to go\n",
      "25 isins done 4226 to go\n",
      "25 isins done 4201 to go\n",
      "25 isins done 4176 to go\n",
      "25 isins done 4151 to go\n",
      "25 isins done 4126 to go\n",
      "25 isins done 4101 to go\n",
      "25 isins done 4076 to go\n",
      "25 isins done 4051 to go\n",
      "25 isins done 4026 to go\n",
      "25 isins done 4001 to go\n",
      "25 isins done 3976 to go\n",
      "25 isins done 3951 to go\n",
      "25 isins done 3926 to go\n",
      "25 isins done 3901 to go\n",
      "25 isins done 3876 to go\n",
      "25 isins done 3851 to go\n",
      "25 isins done 3826 to go\n",
      "25 isins done 3801 to go\n",
      "25 isins done 3776 to go\n",
      "25 isins done 3751 to go\n",
      "25 isins done 3726 to go\n",
      "25 isins done 3701 to go\n",
      "25 isins done 3676 to go\n",
      "25 isins done 3651 to go\n",
      "25 isins done 3626 to go\n",
      "25 isins done 3601 to go\n",
      "25 isins done 3576 to go\n",
      "25 isins done 3551 to go\n",
      "25 isins done 3526 to go\n",
      "25 isins done 3501 to go\n",
      "25 isins done 3476 to go\n",
      "25 isins done 3451 to go\n",
      "25 isins done 3426 to go\n",
      "25 isins done 3401 to go\n",
      "25 isins done 3376 to go\n",
      "25 isins done 3351 to go\n",
      "25 isins done 3326 to go\n",
      "25 isins done 3301 to go\n",
      "25 isins done 3276 to go\n",
      "25 isins done 3251 to go\n",
      "25 isins done 3226 to go\n",
      "25 isins done 3201 to go\n",
      "25 isins done 3176 to go\n",
      "25 isins done 3151 to go\n",
      "25 isins done 3126 to go\n",
      "25 isins done 3101 to go\n",
      "25 isins done 3076 to go\n",
      "25 isins done 3051 to go\n",
      "25 isins done 3026 to go\n",
      "25 isins done 3001 to go\n",
      "25 isins done 2976 to go\n",
      "25 isins done 2951 to go\n",
      "25 isins done 2926 to go\n",
      "25 isins done 2901 to go\n",
      "25 isins done 2876 to go\n",
      "25 isins done 2851 to go\n",
      "25 isins done 2826 to go\n",
      "25 isins done 2801 to go\n",
      "25 isins done 2776 to go\n",
      "25 isins done 2751 to go\n",
      "25 isins done 2726 to go\n",
      "25 isins done 2701 to go\n",
      "25 isins done 2676 to go\n",
      "25 isins done 2651 to go\n",
      "25 isins done 2626 to go\n",
      "25 isins done 2601 to go\n",
      "25 isins done 2576 to go\n",
      "25 isins done 2551 to go\n",
      "25 isins done 2526 to go\n",
      "25 isins done 2501 to go\n",
      "25 isins done 2476 to go\n",
      "25 isins done 2451 to go\n",
      "25 isins done 2426 to go\n",
      "25 isins done 2401 to go\n",
      "25 isins done 2376 to go\n",
      "25 isins done 2351 to go\n",
      "25 isins done 2326 to go\n",
      "25 isins done 2301 to go\n",
      "25 isins done 2276 to go\n",
      "25 isins done 2251 to go\n",
      "25 isins done 2226 to go\n",
      "25 isins done 2201 to go\n",
      "25 isins done 2176 to go\n",
      "25 isins done 2151 to go\n",
      "25 isins done 2126 to go\n",
      "25 isins done 2101 to go\n",
      "25 isins done 2076 to go\n",
      "25 isins done 2051 to go\n",
      "25 isins done 2026 to go\n",
      "25 isins done 2001 to go\n",
      "25 isins done 1976 to go\n",
      "25 isins done 1951 to go\n",
      "25 isins done 1926 to go\n",
      "25 isins done 1901 to go\n",
      "25 isins done 1876 to go\n",
      "25 isins done 1851 to go\n",
      "25 isins done 1826 to go\n",
      "25 isins done 1801 to go\n",
      "25 isins done 1776 to go\n",
      "25 isins done 1751 to go\n",
      "25 isins done 1726 to go\n",
      "25 isins done 1701 to go\n",
      "25 isins done 1676 to go\n",
      "25 isins done 1651 to go\n",
      "25 isins done 1626 to go\n",
      "25 isins done 1601 to go\n",
      "25 isins done 1576 to go\n",
      "25 isins done 1551 to go\n",
      "25 isins done 1526 to go\n",
      "25 isins done 1501 to go\n",
      "25 isins done 1476 to go\n",
      "25 isins done 1451 to go\n",
      "25 isins done 1426 to go\n",
      "25 isins done 1401 to go\n",
      "25 isins done 1376 to go\n",
      "25 isins done 1351 to go\n",
      "25 isins done 1326 to go\n",
      "25 isins done 1301 to go\n",
      "25 isins done 1276 to go\n",
      "25 isins done 1251 to go\n",
      "25 isins done 1226 to go\n",
      "25 isins done 1201 to go\n",
      "25 isins done 1176 to go\n",
      "25 isins done 1151 to go\n",
      "25 isins done 1126 to go\n",
      "25 isins done 1101 to go\n",
      "25 isins done 1076 to go\n",
      "25 isins done 1051 to go\n",
      "25 isins done 1026 to go\n",
      "25 isins done 1001 to go\n",
      "25 isins done 976 to go\n",
      "25 isins done 951 to go\n",
      "25 isins done 926 to go\n",
      "25 isins done 901 to go\n",
      "25 isins done 876 to go\n",
      "25 isins done 851 to go\n",
      "25 isins done 826 to go\n",
      "25 isins done 801 to go\n",
      "25 isins done 776 to go\n",
      "25 isins done 751 to go\n",
      "25 isins done 726 to go\n",
      "25 isins done 701 to go\n",
      "25 isins done 676 to go\n",
      "25 isins done 651 to go\n",
      "25 isins done 626 to go\n",
      "25 isins done 601 to go\n",
      "25 isins done 576 to go\n",
      "25 isins done 551 to go\n",
      "25 isins done 526 to go\n",
      "25 isins done 501 to go\n",
      "25 isins done 476 to go\n",
      "25 isins done 451 to go\n",
      "25 isins done 426 to go\n",
      "25 isins done 401 to go\n",
      "25 isins done 376 to go\n",
      "25 isins done 351 to go\n",
      "25 isins done 326 to go\n",
      "25 isins done 301 to go\n",
      "25 isins done 276 to go\n",
      "25 isins done 251 to go\n",
      "25 isins done 226 to go\n",
      "25 isins done 201 to go\n",
      "25 isins done 176 to go\n",
      "25 isins done 151 to go\n",
      "25 isins done 126 to go\n",
      "25 isins done 101 to go\n",
      "25 isins done 76 to go\n",
      "25 isins done 51 to go\n",
      "25 isins done 26 to go\n",
      "25 isins done 1 to go\n"
     ]
    }
   ],
   "source": [
    "tickers = []\n",
    "for i in range(len(isins)):\n",
    "    if i%25 == 0 and i != 0:\n",
    "        print(\"25 isins done \" + str(len(isins) - i) + \" to go\")\n",
    "    \n",
    "    ticker = get_us_ticker_form_isin(isins[i])\n",
    "    tickers.append(ticker)\n",
    "    \n",
    "    # API limit 25 per requests per 6 seconds\n",
    "    sleep(6/23)"
   ]
  },
  {
   "cell_type": "code",
   "execution_count": 66,
   "metadata": {},
   "outputs": [
    {
     "data": {
      "text/plain": [
       "0.5333333333333333"
      ]
     },
     "execution_count": 66,
     "metadata": {},
     "output_type": "execute_result"
    }
   ],
   "source": [
    "10*4800/60/60/25 # approx time to complete"
   ]
  },
  {
   "cell_type": "code",
   "execution_count": 68,
   "metadata": {},
   "outputs": [],
   "source": [
    "isins_ticker_us = pd.DataFrame([isins, tickers]).T\n",
    "isins_ticker_us.columns = ['primary_isin', 'ticker_US']"
   ]
  },
  {
   "cell_type": "code",
   "execution_count": 70,
   "metadata": {},
   "outputs": [],
   "source": [
    "#isins_ticker_us.to_csv('isins_ticker_us_4601.csv')"
   ]
  },
  {
   "cell_type": "code",
   "execution_count": 72,
   "metadata": {},
   "outputs": [
    {
     "data": {
      "text/plain": [
       "fail        124\n",
       "REY           2\n",
       "DUK           2\n",
       "REAL          2\n",
       "FLR           2\n",
       "           ... \n",
       "RVM           1\n",
       "PUMP          1\n",
       "OOMA          1\n",
       "1865332D      1\n",
       "WSBF          1\n",
       "Name: ticker_US, Length: 4455, dtype: int64"
      ]
     },
     "execution_count": 72,
     "metadata": {},
     "output_type": "execute_result"
    }
   ],
   "source": [
    "isins_ticker_us['ticker_US'].value_counts()"
   ]
  },
  {
   "cell_type": "markdown",
   "metadata": {},
   "source": [
    "### joining tickers on reprisk data"
   ]
  },
  {
   "cell_type": "code",
   "execution_count": 73,
   "metadata": {},
   "outputs": [],
   "source": [
    "US_companies = US_companies.merge(isins_ticker_us, how = 'inner', on = 'primary_isin')"
   ]
  },
  {
   "cell_type": "code",
   "execution_count": 83,
   "metadata": {},
   "outputs": [
    {
     "data": {
      "text/html": [
       "<div>\n",
       "<style scoped>\n",
       "    .dataframe tbody tr th:only-of-type {\n",
       "        vertical-align: middle;\n",
       "    }\n",
       "\n",
       "    .dataframe tbody tr th {\n",
       "        vertical-align: top;\n",
       "    }\n",
       "\n",
       "    .dataframe thead th {\n",
       "        text-align: right;\n",
       "    }\n",
       "</style>\n",
       "<table border=\"1\" class=\"dataframe\">\n",
       "  <thead>\n",
       "    <tr style=\"text-align: right;\">\n",
       "      <th></th>\n",
       "      <th>reprisk_id</th>\n",
       "      <th>date</th>\n",
       "      <th>current_rri</th>\n",
       "      <th>rri_trend</th>\n",
       "      <th>peak_rri</th>\n",
       "      <th>peak_rri_date</th>\n",
       "      <th>reprisk_rating</th>\n",
       "      <th>country_sector_average</th>\n",
       "      <th>environmental_percentage</th>\n",
       "      <th>social_percentage</th>\n",
       "      <th>governance_percentage</th>\n",
       "      <th>primary_isin</th>\n",
       "      <th>name</th>\n",
       "      <th>ticker_US</th>\n",
       "    </tr>\n",
       "  </thead>\n",
       "  <tbody>\n",
       "    <tr>\n",
       "      <td>0</td>\n",
       "      <td>10010</td>\n",
       "      <td>2020-01-31</td>\n",
       "      <td>25.0</td>\n",
       "      <td>8.0</td>\n",
       "      <td>33.0</td>\n",
       "      <td>2019-03-08</td>\n",
       "      <td>A</td>\n",
       "      <td>22.0</td>\n",
       "      <td>0.60</td>\n",
       "      <td>0.30</td>\n",
       "      <td>0.10</td>\n",
       "      <td>US69327R1014</td>\n",
       "      <td>PDC Energy Inc (formerly Petroleum Development...</td>\n",
       "      <td>PDCE</td>\n",
       "    </tr>\n",
       "    <tr>\n",
       "      <td>1</td>\n",
       "      <td>10010</td>\n",
       "      <td>2020-02-29</td>\n",
       "      <td>26.0</td>\n",
       "      <td>1.0</td>\n",
       "      <td>33.0</td>\n",
       "      <td>2019-03-08</td>\n",
       "      <td>A</td>\n",
       "      <td>22.0</td>\n",
       "      <td>0.64</td>\n",
       "      <td>0.27</td>\n",
       "      <td>0.09</td>\n",
       "      <td>US69327R1014</td>\n",
       "      <td>PDC Energy Inc (formerly Petroleum Development...</td>\n",
       "      <td>PDCE</td>\n",
       "    </tr>\n",
       "  </tbody>\n",
       "</table>\n",
       "</div>"
      ],
      "text/plain": [
       "  reprisk_id       date  current_rri  rri_trend  peak_rri peak_rri_date  \\\n",
       "0      10010 2020-01-31         25.0        8.0      33.0    2019-03-08   \n",
       "1      10010 2020-02-29         26.0        1.0      33.0    2019-03-08   \n",
       "\n",
       "  reprisk_rating  country_sector_average  environmental_percentage  \\\n",
       "0              A                    22.0                      0.60   \n",
       "1              A                    22.0                      0.64   \n",
       "\n",
       "   social_percentage  governance_percentage  primary_isin  \\\n",
       "0               0.30                   0.10  US69327R1014   \n",
       "1               0.27                   0.09  US69327R1014   \n",
       "\n",
       "                                                name ticker_US  \n",
       "0  PDC Energy Inc (formerly Petroleum Development...      PDCE  \n",
       "1  PDC Energy Inc (formerly Petroleum Development...      PDCE  "
      ]
     },
     "execution_count": 83,
     "metadata": {},
     "output_type": "execute_result"
    }
   ],
   "source": [
    "US_companies.head(2)"
   ]
  },
  {
   "cell_type": "markdown",
   "metadata": {},
   "source": [
    "### getting monthly returns"
   ]
  },
  {
   "cell_type": "code",
   "execution_count": 76,
   "metadata": {},
   "outputs": [],
   "source": [
    "import pandas_datareader as web"
   ]
  },
  {
   "cell_type": "code",
   "execution_count": 2,
   "metadata": {},
   "outputs": [
    {
     "name": "stdout",
     "output_type": "stream",
     "text": [
      "Object `get_data_yahoo` not found.\n"
     ]
    }
   ],
   "source": [
    "get_data_yahoo?"
   ]
  },
  {
   "cell_type": "code",
   "execution_count": 78,
   "metadata": {},
   "outputs": [
    {
     "data": {
      "text/plain": [
       "4601"
      ]
     },
     "execution_count": 78,
     "metadata": {},
     "output_type": "execute_result"
    }
   ],
   "source": [
    "isins_ticker_us.shape[0]"
   ]
  },
  {
   "cell_type": "code",
   "execution_count": 80,
   "metadata": {},
   "outputs": [
    {
     "name": "stdout",
     "output_type": "stream",
     "text": [
      "20 requests, 4581 left\n",
      "20 requests, 4561 left\n",
      "20 requests, 4541 left\n",
      "20 requests, 4521 left\n",
      "20 requests, 4501 left\n",
      "20 requests, 4481 left\n",
      "20 requests, 4461 left\n",
      "20 requests, 4441 left\n",
      "20 requests, 4421 left\n",
      "20 requests, 4401 left\n",
      "20 requests, 4381 left\n",
      "20 requests, 4361 left\n",
      "20 requests, 4341 left\n",
      "20 requests, 4321 left\n",
      "20 requests, 4301 left\n",
      "20 requests, 4281 left\n",
      "20 requests, 4261 left\n",
      "20 requests, 4241 left\n",
      "20 requests, 4221 left\n",
      "20 requests, 4201 left\n",
      "20 requests, 4181 left\n",
      "20 requests, 4161 left\n",
      "20 requests, 4141 left\n",
      "20 requests, 4121 left\n",
      "20 requests, 4101 left\n",
      "20 requests, 4081 left\n",
      "20 requests, 4061 left\n",
      "20 requests, 4041 left\n",
      "20 requests, 4021 left\n",
      "20 requests, 4001 left\n",
      "20 requests, 3981 left\n",
      "20 requests, 3961 left\n",
      "20 requests, 3941 left\n",
      "20 requests, 3921 left\n",
      "20 requests, 3901 left\n",
      "20 requests, 3881 left\n",
      "20 requests, 3861 left\n",
      "20 requests, 3841 left\n",
      "20 requests, 3821 left\n",
      "20 requests, 3801 left\n",
      "20 requests, 3781 left\n",
      "20 requests, 3761 left\n",
      "20 requests, 3741 left\n",
      "20 requests, 3721 left\n",
      "20 requests, 3701 left\n",
      "20 requests, 3681 left\n",
      "20 requests, 3661 left\n",
      "20 requests, 3641 left\n",
      "20 requests, 3621 left\n",
      "20 requests, 3601 left\n",
      "20 requests, 3581 left\n",
      "20 requests, 3561 left\n",
      "20 requests, 3541 left\n",
      "20 requests, 3521 left\n",
      "20 requests, 3501 left\n",
      "20 requests, 3481 left\n",
      "20 requests, 3461 left\n",
      "20 requests, 3441 left\n",
      "20 requests, 3421 left\n",
      "20 requests, 3401 left\n",
      "20 requests, 3381 left\n",
      "20 requests, 3361 left\n",
      "20 requests, 3341 left\n",
      "20 requests, 3321 left\n",
      "20 requests, 3301 left\n",
      "20 requests, 3281 left\n",
      "20 requests, 3261 left\n",
      "20 requests, 3241 left\n",
      "20 requests, 3221 left\n",
      "20 requests, 3201 left\n",
      "20 requests, 3181 left\n",
      "20 requests, 3161 left\n",
      "20 requests, 3141 left\n",
      "20 requests, 3121 left\n",
      "20 requests, 3101 left\n",
      "20 requests, 3081 left\n",
      "20 requests, 3061 left\n",
      "20 requests, 3041 left\n",
      "20 requests, 3021 left\n",
      "20 requests, 3001 left\n",
      "20 requests, 2981 left\n",
      "20 requests, 2961 left\n",
      "20 requests, 2941 left\n",
      "20 requests, 2921 left\n",
      "20 requests, 2901 left\n",
      "20 requests, 2881 left\n",
      "20 requests, 2861 left\n",
      "20 requests, 2841 left\n",
      "20 requests, 2821 left\n",
      "20 requests, 2801 left\n",
      "20 requests, 2781 left\n",
      "20 requests, 2761 left\n",
      "20 requests, 2741 left\n",
      "20 requests, 2721 left\n",
      "20 requests, 2701 left\n",
      "20 requests, 2681 left\n",
      "20 requests, 2661 left\n",
      "20 requests, 2641 left\n",
      "20 requests, 2621 left\n",
      "20 requests, 2601 left\n",
      "20 requests, 2581 left\n",
      "20 requests, 2561 left\n",
      "20 requests, 2541 left\n",
      "20 requests, 2521 left\n",
      "20 requests, 2501 left\n",
      "20 requests, 2481 left\n",
      "20 requests, 2461 left\n",
      "20 requests, 2441 left\n",
      "20 requests, 2421 left\n",
      "20 requests, 2401 left\n",
      "20 requests, 2381 left\n",
      "20 requests, 2361 left\n",
      "20 requests, 2341 left\n",
      "20 requests, 2321 left\n",
      "20 requests, 2301 left\n",
      "20 requests, 2281 left\n",
      "20 requests, 2261 left\n",
      "20 requests, 2241 left\n",
      "20 requests, 2221 left\n",
      "20 requests, 2201 left\n",
      "20 requests, 2181 left\n",
      "20 requests, 2161 left\n",
      "20 requests, 2141 left\n",
      "20 requests, 2121 left\n",
      "20 requests, 2101 left\n",
      "20 requests, 2081 left\n",
      "20 requests, 2061 left\n",
      "20 requests, 2041 left\n",
      "20 requests, 2021 left\n",
      "20 requests, 2001 left\n",
      "20 requests, 1981 left\n",
      "20 requests, 1961 left\n",
      "20 requests, 1941 left\n",
      "20 requests, 1921 left\n",
      "20 requests, 1901 left\n",
      "20 requests, 1881 left\n",
      "20 requests, 1861 left\n",
      "20 requests, 1841 left\n",
      "20 requests, 1821 left\n",
      "20 requests, 1801 left\n",
      "20 requests, 1781 left\n",
      "20 requests, 1761 left\n",
      "20 requests, 1741 left\n",
      "20 requests, 1721 left\n",
      "20 requests, 1701 left\n",
      "20 requests, 1681 left\n",
      "20 requests, 1661 left\n",
      "20 requests, 1641 left\n",
      "20 requests, 1621 left\n",
      "20 requests, 1601 left\n",
      "20 requests, 1581 left\n",
      "20 requests, 1561 left\n",
      "20 requests, 1541 left\n",
      "20 requests, 1521 left\n",
      "20 requests, 1501 left\n",
      "20 requests, 1481 left\n",
      "20 requests, 1461 left\n",
      "20 requests, 1441 left\n",
      "20 requests, 1421 left\n",
      "20 requests, 1401 left\n",
      "20 requests, 1381 left\n",
      "20 requests, 1361 left\n",
      "20 requests, 1341 left\n",
      "20 requests, 1321 left\n",
      "20 requests, 1301 left\n",
      "20 requests, 1281 left\n",
      "20 requests, 1261 left\n",
      "20 requests, 1241 left\n",
      "20 requests, 1221 left\n",
      "20 requests, 1201 left\n",
      "20 requests, 1181 left\n",
      "20 requests, 1161 left\n",
      "20 requests, 1141 left\n",
      "20 requests, 1121 left\n",
      "20 requests, 1101 left\n",
      "20 requests, 1081 left\n",
      "20 requests, 1061 left\n",
      "20 requests, 1041 left\n",
      "20 requests, 1021 left\n",
      "20 requests, 1001 left\n",
      "20 requests, 981 left\n",
      "20 requests, 961 left\n",
      "20 requests, 941 left\n",
      "20 requests, 921 left\n",
      "20 requests, 901 left\n",
      "20 requests, 881 left\n",
      "20 requests, 861 left\n",
      "20 requests, 841 left\n",
      "20 requests, 821 left\n",
      "20 requests, 801 left\n",
      "20 requests, 781 left\n",
      "20 requests, 761 left\n",
      "20 requests, 741 left\n",
      "20 requests, 721 left\n",
      "20 requests, 701 left\n",
      "20 requests, 681 left\n",
      "20 requests, 661 left\n",
      "20 requests, 641 left\n",
      "20 requests, 621 left\n",
      "20 requests, 601 left\n",
      "20 requests, 581 left\n",
      "20 requests, 561 left\n",
      "20 requests, 541 left\n",
      "20 requests, 521 left\n",
      "20 requests, 501 left\n",
      "20 requests, 481 left\n",
      "20 requests, 461 left\n",
      "20 requests, 441 left\n",
      "20 requests, 421 left\n",
      "20 requests, 401 left\n",
      "20 requests, 381 left\n",
      "20 requests, 361 left\n",
      "20 requests, 341 left\n",
      "20 requests, 321 left\n",
      "20 requests, 301 left\n",
      "20 requests, 281 left\n",
      "20 requests, 261 left\n",
      "20 requests, 241 left\n",
      "20 requests, 221 left\n",
      "20 requests, 201 left\n",
      "20 requests, 181 left\n",
      "20 requests, 161 left\n",
      "20 requests, 141 left\n",
      "20 requests, 121 left\n",
      "20 requests, 101 left\n",
      "20 requests, 81 left\n",
      "20 requests, 61 left\n",
      "20 requests, 41 left\n",
      "20 requests, 21 left\n",
      "20 requests, 1 left\n"
     ]
    }
   ],
   "source": [
    "m_returns = pd.DataFrame(columns = ['date', 'monthly_return', 'ticker'])\n",
    "for i in range(isins_ticker_us.shape[0]):\n",
    "    ticker_US = isins_ticker_us.loc[i]['ticker_US']\n",
    "    try:\n",
    "        returns = web.get_data_yahoo(ticker_US,\n",
    "                            start = \"2006-12-29\",\n",
    "                            end = \"2020-12-31\") # dates of reprisk data\n",
    "        monthly_returns_t = returns['Adj Close'].resample('M').ffill().pct_change()\n",
    "        monthly_returns_t = pd.DataFrame(monthly_returns_t[1:]).reset_index()\n",
    "        monthly_returns_t['ticker'] = ticker_US\n",
    "        monthly_returns_t.columns = ['date', 'monthly_return', 'ticker']\n",
    "    except:\n",
    "        monthly_returns_t['ticker'] = ticker_US\n",
    "        monthly_returns_t['monthly_return'] = 'fail'\n",
    "    \n",
    "    m_returns = pd.concat([m_returns,monthly_returns_t])\n",
    "    if i%20 == 0 and i != 0:\n",
    "        print('20 requests, ' + str(isins_ticker_us.shape[0]-i) + ' left' )"
   ]
  },
  {
   "cell_type": "code",
   "execution_count": 82,
   "metadata": {},
   "outputs": [],
   "source": [
    "#m_returns.to_csv('m_returns_4601.csv')"
   ]
  },
  {
   "cell_type": "markdown",
   "metadata": {},
   "source": [
    "## joining returns on reprisk data"
   ]
  },
  {
   "cell_type": "code",
   "execution_count": 89,
   "metadata": {},
   "outputs": [],
   "source": [
    "query = conn.raw_sql(\"\"\"select ri.*, ci.primary_ISIN, ci.name\n",
    "                        from reprisk.pm_rri_data ri\n",
    "                        left join reprisk.pm_company_identifiers ci\n",
    "                        on ri.reprisk_id = ci.reprisk_id\n",
    "                        where ci.headquarter_country = 'United States of America' and ci.primary_isin is not null\n",
    "                        \"\"\", date_cols=['date'])\n",
    "repriskdata = pd.DataFrame(data=query)"
   ]
  },
  {
   "cell_type": "code",
   "execution_count": 91,
   "metadata": {},
   "outputs": [],
   "source": [
    "repriskdata = repriskdata.merge(isins_ticker_us, how = 'inner', on = 'primary_isin')"
   ]
  },
  {
   "cell_type": "code",
   "execution_count": 96,
   "metadata": {},
   "outputs": [],
   "source": [
    "m_returns.columns = ['date', 'monthly_return', 'ticker_US']"
   ]
  },
  {
   "cell_type": "code",
   "execution_count": 99,
   "metadata": {},
   "outputs": [],
   "source": [
    "repriskdata = repriskdata.merge(m_returns, how = 'left', on = ['ticker_US', 'date'])"
   ]
  },
  {
   "cell_type": "code",
   "execution_count": 104,
   "metadata": {},
   "outputs": [],
   "source": [
    "repriskdata = repriskdata[repriskdata['ticker_US'] != 'fail']"
   ]
  },
  {
   "cell_type": "code",
   "execution_count": 106,
   "metadata": {},
   "outputs": [],
   "source": [
    "repriskdata = repriskdata[repriskdata['monthly_return'] != 'fail']"
   ]
  },
  {
   "cell_type": "code",
   "execution_count": 108,
   "metadata": {},
   "outputs": [
    {
     "data": {
      "text/plain": [
       "2665"
      ]
     },
     "execution_count": 108,
     "metadata": {},
     "output_type": "execute_result"
    }
   ],
   "source": [
    "repriskdata['primary_isin'].nunique()"
   ]
  },
  {
   "cell_type": "code",
   "execution_count": 114,
   "metadata": {},
   "outputs": [],
   "source": [
    "from dateutil.relativedelta import relativedelta"
   ]
  },
  {
   "cell_type": "code",
   "execution_count": 131,
   "metadata": {},
   "outputs": [],
   "source": [
    "import matplotlib.pyplot as plt"
   ]
  },
  {
   "cell_type": "code",
   "execution_count": 140,
   "metadata": {},
   "outputs": [],
   "source": [
    "n_companies = []\n",
    "months = []\n",
    "for i in range(167):\n",
    "    months.append(i)\n",
    "    n_companies.append(repriskdata[repriskdata['date'] == repriskdata['date'][0] \n",
    "                                   + relativedelta(months=i)]['monthly_return'].notna().sum())"
   ]
  },
  {
   "cell_type": "code",
   "execution_count": 143,
   "metadata": {},
   "outputs": [],
   "source": [
    "plt.plot?"
   ]
  },
  {
   "cell_type": "code",
   "execution_count": 146,
   "metadata": {},
   "outputs": [
    {
     "data": {
      "text/plain": [
       "Text(0.5, 0, 'time in months from start 2007 to end 2020')"
      ]
     },
     "execution_count": 146,
     "metadata": {},
     "output_type": "execute_result"
    },
    {
     "data": {
      "image/png": "[encoded data removed]",
      "text/plain": [
       "<Figure size 432x288 with 1 Axes>"
      ]
     },
     "metadata": {
      "needs_background": "light"
     },
     "output_type": "display_data"
    }
   ],
   "source": [
    "plt.plot(months, n_companies)\n",
    "plt.title('# number of companies with data on m returns')\n",
    "plt.xlabel('time in months from start 2007 to end 2020')"
   ]
  },
  {
   "cell_type": "code",
   "execution_count": 155,
   "metadata": {},
   "outputs": [],
   "source": [
    "# these ticker might be wrong, should better delete them\n",
    "counter = 0\n",
    "bad_tickers = []\n",
    "for i in list(repriskdata['ticker_US'].unique()):\n",
    "    if i.find(' ') > 0:\n",
    "        bad_tickers.append(i)\n",
    "        counter += 1"
   ]
  },
  {
   "cell_type": "code",
   "execution_count": 160,
   "metadata": {},
   "outputs": [],
   "source": [
    "#repriskdata.to_csv('repriskdata_2400_us_comp_returns.csv', index = False)"
   ]
  },
  {
   "cell_type": "code",
   "execution_count": null,
   "metadata": {},
   "outputs": [],
   "source": []
  },
  {
   "cell_type": "code",
   "execution_count": null,
   "metadata": {},
   "outputs": [],
   "source": [
    "52*4300/40/60"
   ]
  },
  {
   "cell_type": "markdown",
   "metadata": {},
   "source": [
    "### debug"
   ]
  },
  {
   "cell_type": "code",
   "execution_count": 51,
   "metadata": {},
   "outputs": [
    {
     "data": {
      "text/plain": [
       "[{'data': [{'figi': 'BBG001DQ62T3',\n",
       "    'name': 'FRESENIUS MED CARE US',\n",
       "    'ticker': 'FMEGR 5.75 02/15/21 144A',\n",
       "    'exchCode': 'TRACE',\n",
       "    'compositeFIGI': None,\n",
       "    'uniqueID': None,\n",
       "    'securityType': 'PRIV PLACEMENT',\n",
       "    'marketSector': 'Corp',\n",
       "    'shareClassFIGI': None,\n",
       "    'uniqueIDFutOpt': None,\n",
       "    'securityType2': 'Corp',\n",
       "    'securityDescription': 'FMEGR 5 3/4 02/15/21'}]}]"
      ]
     },
     "execution_count": 51,
     "metadata": {},
     "output_type": "execute_result"
    }
   ],
   "source": [
    "isin = 'US35803QAA58'\n",
    "url = 'https://api.openfigi.com/v1/mapping'\n",
    "headers = {'Content-Type':'text/json', 'X-OPENFIGI-APIKEY':'46a82b66-6569-4077-b14a-2aa771bb933f' }\n",
    "payload = '[{\"idType\":\"ID_ISIN\",\"idValue\":\"' + isin + '\"}]'\n",
    "\n",
    "r = requests.post(url, headers=headers, data=payload)\n",
    "    \n",
    "r.json()"
   ]
  },
  {
   "cell_type": "code",
   "execution_count": null,
   "metadata": {},
   "outputs": [],
   "source": [
    "r.json()[0].get('data')[0].get('ticker')"
   ]
  },
  {
   "cell_type": "code",
   "execution_count": 47,
   "metadata": {},
   "outputs": [
    {
     "data": {
      "text/html": [
       "<div>\n",
       "<style scoped>\n",
       "    .dataframe tbody tr th:only-of-type {\n",
       "        vertical-align: middle;\n",
       "    }\n",
       "\n",
       "    .dataframe tbody tr th {\n",
       "        vertical-align: top;\n",
       "    }\n",
       "\n",
       "    .dataframe thead th {\n",
       "        text-align: right;\n",
       "    }\n",
       "</style>\n",
       "<table border=\"1\" class=\"dataframe\">\n",
       "  <thead>\n",
       "    <tr style=\"text-align: right;\">\n",
       "      <th></th>\n",
       "      <th>reprisk_id</th>\n",
       "      <th>date</th>\n",
       "      <th>current_rri</th>\n",
       "      <th>rri_trend</th>\n",
       "      <th>peak_rri</th>\n",
       "      <th>peak_rri_date</th>\n",
       "      <th>reprisk_rating</th>\n",
       "      <th>country_sector_average</th>\n",
       "      <th>environmental_percentage</th>\n",
       "      <th>social_percentage</th>\n",
       "      <th>governance_percentage</th>\n",
       "      <th>primary_isin</th>\n",
       "      <th>name</th>\n",
       "    </tr>\n",
       "  </thead>\n",
       "  <tbody>\n",
       "    <tr>\n",
       "      <td>360</td>\n",
       "      <td>101758</td>\n",
       "      <td>2020-01-31</td>\n",
       "      <td>0.0</td>\n",
       "      <td>-2.0</td>\n",
       "      <td>17.0</td>\n",
       "      <td>2019-01-15</td>\n",
       "      <td>AA</td>\n",
       "      <td>22.0</td>\n",
       "      <td>0.0</td>\n",
       "      <td>0.0</td>\n",
       "      <td>0.0</td>\n",
       "      <td>US12513GAA76</td>\n",
       "      <td>CDW LLC</td>\n",
       "    </tr>\n",
       "  </tbody>\n",
       "</table>\n",
       "</div>"
      ],
      "text/plain": [
       "    reprisk_id       date  current_rri  rri_trend  peak_rri peak_rri_date  \\\n",
       "360     101758 2020-01-31          0.0       -2.0      17.0    2019-01-15   \n",
       "\n",
       "    reprisk_rating  country_sector_average  environmental_percentage  \\\n",
       "360             AA                    22.0                       0.0   \n",
       "\n",
       "     social_percentage  governance_percentage  primary_isin     name  \n",
       "360                0.0                    0.0  US12513GAA76  CDW LLC  "
      ]
     },
     "execution_count": 47,
     "metadata": {},
     "output_type": "execute_result"
    }
   ],
   "source": [
    "US_companies[US_companies['primary_isin'] == 'US12513GAA76'].head(1)"
   ]
  },
  {
   "cell_type": "code",
   "execution_count": 50,
   "metadata": {},
   "outputs": [
    {
     "data": {
      "text/plain": [
       "'US35803QAA58'"
      ]
     },
     "execution_count": 50,
     "metadata": {},
     "output_type": "execute_result"
    }
   ],
   "source": [
    "isins[36]"
   ]
  },
  {
   "cell_type": "code",
   "execution_count": 49,
   "metadata": {},
   "outputs": [
    {
     "data": {
      "text/plain": [
       "'FMEGR 5.75 02/15/21 144A'"
      ]
     },
     "execution_count": 49,
     "metadata": {},
     "output_type": "execute_result"
    }
   ],
   "source": [
    "tickers[36]"
   ]
  }
 ],
 "metadata": {
  "kernelspec": {
   "display_name": "Python 3",
   "language": "python",
   "name": "python3"
  },
  "language_info": {
   "codemirror_mode": {
    "name": "ipython",
    "version": 3
   },
   "file_extension": ".py",
   "mimetype": "text/x-python",
   "name": "python",
   "nbconvert_exporter": "python",
   "pygments_lexer": "ipython3",
   "version": "3.7.1"
  }
 },
 "nbformat": 4,
 "nbformat_minor": 2
}
