{
 "cells": [
  {
   "cell_type": "code",
   "execution_count": 31,
   "metadata": {},
   "outputs": [],
   "source": [
    "from numpy import mat, cov, mean, hstack, multiply,sqrt,diag, \\\n",
    "    squeeze, ones, array, vstack, kron, zeros, eye, savez_compressed\n",
    "from numpy.linalg import inv\n",
    "from scipy.stats import chi2\n",
    "import pandas as pd\n",
    "import statsmodels.api as sm\n",
    "from datetime import datetime, timedelta"
   ]
  },
  {
   "cell_type": "code",
   "execution_count": 32,
   "metadata": {},
   "outputs": [
    {
     "name": "stdout",
     "output_type": "stream",
     "text": [
      "   yearmon  Mkt-RF   SMB   HML        ESG    RF  SMALL LoOP  ME1 OP2  \\\n",
      "0   201001   -3.36  0.40  0.43  12.616657  0.00     -3.3026  -3.1598   \n",
      "1   201002    3.40  1.19  3.22  10.794166  0.00      5.0917   4.3672   \n",
      "2   201003    6.31  1.48  2.21   9.469723  0.01      8.5570   6.9878   \n",
      "3   201004    2.00  4.87  2.89   8.926834  0.01      6.9369   5.6579   \n",
      "4   201005   -7.89  0.09 -2.44   1.312684  0.01     -8.7635  -7.5293   \n",
      "\n",
      "   SMALL HiOP  BIG LoOP  ME2 OP2  BIG HiOP       date  year  \n",
      "0     -3.0180   -1.6594  -3.3932   -4.3976 2010-01-01  2010  \n",
      "1      5.5928    4.1050   3.1106    3.0375 2010-02-01  2010  \n",
      "2      8.9876    6.8288   6.5379    5.1432 2010-03-01  2010  \n",
      "3      7.0534    0.5209   1.6261    1.8046 2010-04-01  2010  \n",
      "4     -6.3409   -8.1244  -7.4126   -8.0114 2010-05-01  2010  \n"
     ]
    }
   ],
   "source": [
    "data = pd.read_csv('Fama_French_4_factors_US_ME_Profit.csv')\n",
    "\n",
    "data['date'] = data['yearmon'].apply(lambda x: datetime.strptime(str(x), '%Y%m'))\n",
    "data['year'] = pd.DatetimeIndex(data['date']).year\n",
    "\n",
    "print(data.head())"
   ]
  },
  {
   "cell_type": "code",
   "execution_count": 52,
   "metadata": {},
   "outputs": [],
   "source": [
    "\n",
    "# Split using both named colums and ix for larger blocks\n",
    "t_stats = []\n",
    "shape = []\n",
    "for i in range(0,6):\n",
    "    temp_data = data[(data['year'] >= 2010 + i) & (data['year'] <= 2014 + i) ]\n",
    "    shape.append(temp_data.shape)\n",
    "    factors = temp_data[['Mkt-RF', 'SMB', 'HML','ESG']].values\n",
    "    factors = mat(factors)\n",
    "    riskfree = temp_data['RF'].values\n",
    "    small_robust = temp_data.iloc[:, 8]\n",
    "    excessReturns = small_robust - riskfree\n",
    "\n",
    "    xdata = sm.add_constant(factors)\n",
    "    ydata = excessReturns\n",
    "    ts_res = sm.OLS(ydata,xdata).fit()\n",
    "\n",
    "    t_stats.append(abs(ts_res.tvalues[4]))\n",
    "\n"
   ]
  },
  {
   "cell_type": "code",
   "execution_count": 56,
   "metadata": {},
   "outputs": [
    {
     "name": "stdout",
     "output_type": "stream",
     "text": [
      "[-1.0736492431691367, -0.45437666918735525, -0.3751956114005543, 0.04992744831989473, 0.2816626172596605, 0.35683101781444754]\n",
      "[(60, 14), (60, 14), (60, 14), (60, 14), (60, 14), (60, 14)]\n"
     ]
    }
   ],
   "source": [
    "print(t_stats)\n",
    "print(shape)"
   ]
  },
  {
   "cell_type": "code",
   "execution_count": 54,
   "metadata": {},
   "outputs": [
    {
     "name": "stdout",
     "output_type": "stream",
     "text": [
      "   yearmon  Mkt-RF   SMB   HML       ESG    RF  SMALL LoOP  ME1 OP2  \\\n",
      "0   201001   -5.28  4.70 -1.87  4.442555  0.00       -1.74    -1.24   \n",
      "1   201002   -2.10 -0.71 -1.79  1.652308  0.00       -3.33    -2.78   \n",
      "2   201003    6.41 -1.13  4.27 -5.239898  0.01        4.95     6.76   \n",
      "3   201004   -1.66  3.19 -0.29  2.616029  0.01       -0.72     1.39   \n",
      "4   201005  -12.05 -0.20 -3.59  5.580519  0.01      -12.74   -12.43   \n",
      "\n",
      "   SMALL HiOP  BIG LoOP  ME2 OP2  BIG HiOP       date  year  \n",
      "0       -0.04     -6.64    -5.66     -5.36 2010-01-01  2010  \n",
      "1       -2.56     -2.70    -1.63     -1.97 2010-02-01  2010  \n",
      "2        7.02      8.16     5.70      6.33 2010-03-01  2010  \n",
      "3        2.75     -3.28    -1.71     -2.24 2010-04-01  2010  \n",
      "4      -13.33    -13.69   -11.25    -11.73 2010-05-01  2010  \n"
     ]
    }
   ],
   "source": [
    "data = pd.read_csv('Europe_4_Factors_ME_Profit.csv')\n",
    "\n",
    "data['date'] = data['yearmon'].apply(lambda x: datetime.strptime(str(x), '%Y%m'))\n",
    "data['year'] = pd.DatetimeIndex(data['date']).year\n",
    "\n",
    "print(data.head())"
   ]
  },
  {
   "cell_type": "code",
   "execution_count": 55,
   "metadata": {},
   "outputs": [],
   "source": [
    "\n",
    "# Split using both named colums and ix for larger blocks\n",
    "t_stats2 = []\n",
    "shape2 = []\n",
    "for i in range(0,6):\n",
    "    temp_data = data[(data['year'] >= 2010 + i) & (data['year'] <= 2014 + i) ]\n",
    "    shape2.append(temp_data.shape)\n",
    "    factors = temp_data[['Mkt-RF', 'SMB', 'HML','ESG']].values\n",
    "    factors = mat(factors)\n",
    "    riskfree = temp_data['RF'].values\n",
    "    small_robust = temp_data.iloc[:, 8]\n",
    "    excessReturns = small_robust - riskfree\n",
    "\n",
    "    xdata = sm.add_constant(factors)\n",
    "    ydata = excessReturns\n",
    "    ts_res = sm.OLS(ydata,xdata).fit()\n",
    "\n",
    "    t_stats2.append(ts_res.tvalues[4])"
   ]
  },
  {
   "cell_type": "code",
   "execution_count": 57,
   "metadata": {},
   "outputs": [
    {
     "name": "stdout",
     "output_type": "stream",
     "text": [
      "[0.733497127347491, 0.7008166083429386, -0.7876261235356498, -0.7667406676295925, -1.4275496952018476, -1.723134210022151]\n",
      "[(60, 14), (60, 14), (60, 14), (60, 14), (60, 14), (60, 14)]\n"
     ]
    }
   ],
   "source": [
    "print(t_stats2)\n",
    "print(shape2)"
   ]
  }
 ],
 "metadata": {
  "interpreter": {
   "hash": "733f4f1d7c25e2c8c61708c6eff464d85a5c38c23ff1dfdc44a48268df46ea30"
  },
  "kernelspec": {
   "display_name": "Python 3.9.12 ('base')",
   "language": "python",
   "name": "python3"
  },
  "language_info": {
   "codemirror_mode": {
    "name": "ipython",
    "version": 3
   },
   "file_extension": ".py",
   "mimetype": "text/x-python",
   "name": "python",
   "nbconvert_exporter": "python",
   "pygments_lexer": "ipython3",
   "version": "3.9.12"
  },
  "orig_nbformat": 4
 },
 "nbformat": 4,
 "nbformat_minor": 2
}
