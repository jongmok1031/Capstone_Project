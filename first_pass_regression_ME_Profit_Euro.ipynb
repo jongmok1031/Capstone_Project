{
 "cells": [
  {
   "cell_type": "code",
   "execution_count": 1,
   "metadata": {},
   "outputs": [],
   "source": [
    "from numpy import mat, cov, mean, hstack, multiply,sqrt,diag, \\\n",
    "    squeeze, ones, array, vstack, kron, zeros, eye, savez_compressed\n",
    "from numpy.linalg import inv\n",
    "from scipy.stats import chi2\n",
    "import pandas as pd\n",
    "import statsmodels.api as sm"
   ]
  },
  {
   "cell_type": "code",
   "execution_count": 4,
   "metadata": {},
   "outputs": [
    {
     "name": "stdout",
     "output_type": "stream",
     "text": [
      "     SMALL LoOP  ME1 OP2  SMALL HiOP  BIG LoOP  ME2 OP2  BIG HiOP\n",
      "0         -1.74    -1.24       -0.04     -6.64    -5.66     -5.36\n",
      "1         -3.33    -2.78       -2.56     -2.70    -1.63     -1.97\n",
      "2          4.94     6.75        7.01      8.15     5.69      6.32\n",
      "3         -0.73     1.38        2.74     -3.29    -1.72     -2.25\n",
      "4        -12.75   -12.44      -13.34    -13.70   -11.26    -11.74\n",
      "..          ...      ...         ...       ...      ...       ...\n",
      "127        6.57     7.51        8.04      4.75     4.14      5.26\n",
      "128       -2.99    -2.33       -2.47     -5.55    -2.70     -1.44\n",
      "129       -3.13    -4.58       -3.76     -3.92    -5.77     -4.53\n",
      "130       18.88    17.44       19.07     20.95    16.59     13.12\n",
      "131        9.47     9.33       10.01      4.13     5.98      5.12\n",
      "\n",
      "[132 rows x 6 columns]\n"
     ]
    }
   ],
   "source": [
    "data = pd.read_csv('Europe_4_Factors_ME_Profit.csv')\n",
    "\n",
    "# Split using both named colums and ix for larger blocks\n",
    "factors = data[['Mkt-RF', 'SMB', 'HML','ESG']].values\n",
    "factors = mat(factors)\n",
    "riskfree = data['RF'].values\n",
    "portfolios = data.iloc[:, 6:]\n",
    "\n",
    "# Shape information\n",
    "T,K = factors.shape\n",
    "T,N = portfolios.shape\n",
    "# Reshape rf and compute excess returns\n",
    "riskfree.shape = T,1\n",
    "excessReturns = portfolios - riskfree\n",
    "\n",
    "print(excessReturns)"
   ]
  },
  {
   "cell_type": "markdown",
   "metadata": {},
   "source": [
    "Small size and low operating profit"
   ]
  },
  {
   "cell_type": "code",
   "execution_count": 5,
   "metadata": {},
   "outputs": [
    {
     "name": "stdout",
     "output_type": "stream",
     "text": [
      "-0.16866457804477486\n",
      "x1    0.992221\n",
      "x2    0.829886\n",
      "x3    0.225787\n",
      "x4    0.020000\n",
      "dtype: float64\n",
      "                            OLS Regression Results                            \n",
      "==============================================================================\n",
      "Dep. Variable:             SMALL LoOP   R-squared:                       0.990\n",
      "Model:                            OLS   Adj. R-squared:                  0.990\n",
      "Method:                 Least Squares   F-statistic:                     3183.\n",
      "Date:                Mon, 18 Apr 2022   Prob (F-statistic):          2.92e-126\n",
      "Time:                        02:13:47   Log-Likelihood:                -107.49\n",
      "No. Observations:                 132   AIC:                             225.0\n",
      "Df Residuals:                     127   BIC:                             239.4\n",
      "Df Model:                           4                                         \n",
      "Covariance Type:            nonrobust                                         \n",
      "==============================================================================\n",
      "                 coef    std err          t      P>|t|      [0.025      0.975]\n",
      "------------------------------------------------------------------------------\n",
      "const         -0.1687      0.051     -3.322      0.001      -0.269      -0.068\n",
      "x1             0.9922      0.015     67.810      0.000       0.963       1.021\n",
      "x2             0.8299      0.028     29.451      0.000       0.774       0.886\n",
      "x3             0.2258      0.024      9.367      0.000       0.178       0.273\n",
      "x4             0.0200      0.011      1.782      0.077      -0.002       0.042\n",
      "==============================================================================\n",
      "Omnibus:                        9.716   Durbin-Watson:                   1.645\n",
      "Prob(Omnibus):                  0.008   Jarque-Bera (JB):               17.856\n",
      "Skew:                           0.259   Prob(JB):                     0.000133\n",
      "Kurtosis:                       4.726   Cond. No.                         9.23\n",
      "==============================================================================\n",
      "\n",
      "Notes:\n",
      "[1] Standard Errors assume that the covariance matrix of the errors is correctly specified.\n"
     ]
    }
   ],
   "source": [
    "# Time series regressions\n",
    "#X = sm.add_constant(factors)\n",
    "xdata = sm.add_constant(factors)\n",
    "ydata = excessReturns[\"SMALL LoOP\"]\n",
    "ts_res = sm.OLS(ydata,xdata).fit()\n",
    "alpha = ts_res.params[0]\n",
    "beta = ts_res.params[1:]\n",
    "avgExcessReturns = mean(excessReturns, 0)\n",
    "# Cross-section regression\n",
    "\n",
    "print(alpha)\n",
    "print(beta)\n",
    "\n",
    "print(ts_res.summary())"
   ]
  },
  {
   "cell_type": "markdown",
   "metadata": {},
   "source": [
    "Medium size and first quantile operating profit"
   ]
  },
  {
   "cell_type": "code",
   "execution_count": 6,
   "metadata": {},
   "outputs": [
    {
     "name": "stdout",
     "output_type": "stream",
     "text": [
      "0.12478922684319421\n",
      "x1    0.995958\n",
      "x2    0.913159\n",
      "x3    0.018638\n",
      "x4   -0.009844\n",
      "dtype: float64\n",
      "                            OLS Regression Results                            \n",
      "==============================================================================\n",
      "Dep. Variable:                ME1 OP2   R-squared:                       0.994\n",
      "Model:                            OLS   Adj. R-squared:                  0.993\n",
      "Method:                 Least Squares   F-statistic:                     4959.\n",
      "Date:                Mon, 18 Apr 2022   Prob (F-statistic):          2.16e-138\n",
      "Time:                        02:51:11   Log-Likelihood:                -76.625\n",
      "No. Observations:                 132   AIC:                             163.2\n",
      "Df Residuals:                     127   BIC:                             177.7\n",
      "Df Model:                           4                                         \n",
      "Covariance Type:            nonrobust                                         \n",
      "==============================================================================\n",
      "                 coef    std err          t      P>|t|      [0.025      0.975]\n",
      "------------------------------------------------------------------------------\n",
      "const          0.1248      0.040      3.106      0.002       0.045       0.204\n",
      "x1             0.9960      0.012     85.996      0.000       0.973       1.019\n",
      "x2             0.9132      0.022     40.943      0.000       0.869       0.957\n",
      "x3             0.0186      0.019      0.977      0.330      -0.019       0.056\n",
      "x4            -0.0098      0.009     -1.108      0.270      -0.027       0.008\n",
      "==============================================================================\n",
      "Omnibus:                        0.271   Durbin-Watson:                   1.870\n",
      "Prob(Omnibus):                  0.873   Jarque-Bera (JB):                0.228\n",
      "Skew:                           0.099   Prob(JB):                        0.892\n",
      "Kurtosis:                       2.957   Cond. No.                         9.23\n",
      "==============================================================================\n",
      "\n",
      "Notes:\n",
      "[1] Standard Errors assume that the covariance matrix of the errors is correctly specified.\n"
     ]
    }
   ],
   "source": [
    "# Time series regressions\n",
    "#X = sm.add_constant(factors)\n",
    "xdata = sm.add_constant(factors)\n",
    "ydata = excessReturns[\"ME1 OP2\"]\n",
    "ts_res = sm.OLS(ydata,xdata).fit()\n",
    "alpha = ts_res.params[0]\n",
    "beta = ts_res.params[1:]\n",
    "avgExcessReturns = mean(excessReturns, 0)\n",
    "# Cross-section regression\n",
    "\n",
    "print(alpha)\n",
    "print(beta)\n",
    "\n",
    "print(ts_res.summary())"
   ]
  },
  {
   "cell_type": "markdown",
   "metadata": {},
   "source": [
    "Small size and high operating profit"
   ]
  },
  {
   "cell_type": "code",
   "execution_count": 7,
   "metadata": {},
   "outputs": [
    {
     "name": "stdout",
     "output_type": "stream",
     "text": [
      "0.26792008524042354\n",
      "x1    1.012609\n",
      "x2    0.933701\n",
      "x3   -0.046614\n",
      "x4   -0.029658\n",
      "dtype: float64\n",
      "                            OLS Regression Results                            \n",
      "==============================================================================\n",
      "Dep. Variable:             SMALL HiOP   R-squared:                       0.980\n",
      "Model:                            OLS   Adj. R-squared:                  0.980\n",
      "Method:                 Least Squares   F-statistic:                     1592.\n",
      "Date:                Mon, 18 Apr 2022   Prob (F-statistic):          1.99e-107\n",
      "Time:                        02:51:29   Log-Likelihood:                -154.38\n",
      "No. Observations:                 132   AIC:                             318.8\n",
      "Df Residuals:                     127   BIC:                             333.2\n",
      "Df Model:                           4                                         \n",
      "Covariance Type:            nonrobust                                         \n",
      "==============================================================================\n",
      "                 coef    std err          t      P>|t|      [0.025      0.975]\n",
      "------------------------------------------------------------------------------\n",
      "const          0.2679      0.072      3.700      0.000       0.125       0.411\n",
      "x1             1.0126      0.021     48.513      0.000       0.971       1.054\n",
      "x2             0.9337      0.040     23.228      0.000       0.854       1.013\n",
      "x3            -0.0466      0.034     -1.356      0.178      -0.115       0.021\n",
      "x4            -0.0297      0.016     -1.852      0.066      -0.061       0.002\n",
      "==============================================================================\n",
      "Omnibus:                        9.925   Durbin-Watson:                   1.728\n",
      "Prob(Omnibus):                  0.007   Jarque-Bera (JB):               16.243\n",
      "Skew:                          -0.330   Prob(JB):                     0.000297\n",
      "Kurtosis:                       4.587   Cond. No.                         9.23\n",
      "==============================================================================\n",
      "\n",
      "Notes:\n",
      "[1] Standard Errors assume that the covariance matrix of the errors is correctly specified.\n"
     ]
    }
   ],
   "source": [
    "# Time series regressions\n",
    "#X = sm.add_constant(factors)\n",
    "xdata = sm.add_constant(factors)\n",
    "ydata = excessReturns[\"SMALL HiOP\"]\n",
    "ts_res = sm.OLS(ydata,xdata).fit()\n",
    "alpha = ts_res.params[0]\n",
    "beta = ts_res.params[1:]\n",
    "avgExcessReturns = mean(excessReturns, 0)\n",
    "# Cross-section regression\n",
    "\n",
    "print(alpha)\n",
    "print(beta)\n",
    "\n",
    "print(ts_res.summary())"
   ]
  },
  {
   "cell_type": "markdown",
   "metadata": {},
   "source": [
    "Big size and low operating profit"
   ]
  },
  {
   "cell_type": "code",
   "execution_count": 8,
   "metadata": {},
   "outputs": [
    {
     "name": "stdout",
     "output_type": "stream",
     "text": [
      "-0.01181270221427324\n",
      "x1    1.040416\n",
      "x2   -0.000076\n",
      "x3    0.483652\n",
      "x4    0.015354\n",
      "dtype: float64\n",
      "                            OLS Regression Results                            \n",
      "==============================================================================\n",
      "Dep. Variable:               BIG LoOP   R-squared:                       0.974\n",
      "Model:                            OLS   Adj. R-squared:                  0.973\n",
      "Method:                 Least Squares   F-statistic:                     1186.\n",
      "Date:                Mon, 18 Apr 2022   Prob (F-statistic):           1.68e-99\n",
      "Time:                        02:51:42   Log-Likelihood:                -184.02\n",
      "No. Observations:                 132   AIC:                             378.0\n",
      "Df Residuals:                     127   BIC:                             392.4\n",
      "Df Model:                           4                                         \n",
      "Covariance Type:            nonrobust                                         \n",
      "==============================================================================\n",
      "                 coef    std err          t      P>|t|      [0.025      0.975]\n",
      "------------------------------------------------------------------------------\n",
      "const         -0.0118      0.091     -0.130      0.897      -0.191       0.168\n",
      "x1             1.0404      0.026     39.821      0.000       0.989       1.092\n",
      "x2         -7.637e-05      0.050     -0.002      0.999      -0.100       0.099\n",
      "x3             0.4837      0.043     11.238      0.000       0.398       0.569\n",
      "x4             0.0154      0.020      0.766      0.445      -0.024       0.055\n",
      "==============================================================================\n",
      "Omnibus:                       39.274   Durbin-Watson:                   1.766\n",
      "Prob(Omnibus):                  0.000   Jarque-Bera (JB):              134.401\n",
      "Skew:                          -1.032   Prob(JB):                     6.53e-30\n",
      "Kurtosis:                       7.492   Cond. No.                         9.23\n",
      "==============================================================================\n",
      "\n",
      "Notes:\n",
      "[1] Standard Errors assume that the covariance matrix of the errors is correctly specified.\n"
     ]
    }
   ],
   "source": [
    "# Time series regressions\n",
    "#X = sm.add_constant(factors)\n",
    "xdata = sm.add_constant(factors)\n",
    "ydata = excessReturns[\"BIG LoOP\"]\n",
    "ts_res = sm.OLS(ydata,xdata).fit()\n",
    "alpha = ts_res.params[0]\n",
    "beta = ts_res.params[1:]\n",
    "avgExcessReturns = mean(excessReturns, 0)\n",
    "# Cross-section regression\n",
    "\n",
    "print(alpha)\n",
    "print(beta)\n",
    "\n",
    "print(ts_res.summary())"
   ]
  },
  {
   "cell_type": "markdown",
   "metadata": {},
   "source": [
    "Medium size and second quantile operating profit"
   ]
  },
  {
   "cell_type": "code",
   "execution_count": 9,
   "metadata": {},
   "outputs": [
    {
     "name": "stdout",
     "output_type": "stream",
     "text": [
      "0.005649534190895367\n",
      "x1    1.021319\n",
      "x2   -0.127359\n",
      "x3   -0.114960\n",
      "x4    0.002719\n",
      "dtype: float64\n",
      "                            OLS Regression Results                            \n",
      "==============================================================================\n",
      "Dep. Variable:                ME2 OP2   R-squared:                       0.990\n",
      "Model:                            OLS   Adj. R-squared:                  0.990\n",
      "Method:                 Least Squares   F-statistic:                     3093.\n",
      "Date:                Mon, 18 Apr 2022   Prob (F-statistic):          1.75e-125\n",
      "Time:                        02:51:57   Log-Likelihood:                -98.353\n",
      "No. Observations:                 132   AIC:                             206.7\n",
      "Df Residuals:                     127   BIC:                             221.1\n",
      "Df Model:                           4                                         \n",
      "Covariance Type:            nonrobust                                         \n",
      "==============================================================================\n",
      "                 coef    std err          t      P>|t|      [0.025      0.975]\n",
      "------------------------------------------------------------------------------\n",
      "const          0.0056      0.047      0.119      0.905      -0.088       0.099\n",
      "x1             1.0213      0.014     74.802      0.000       0.994       1.048\n",
      "x2            -0.1274      0.026     -4.844      0.000      -0.179      -0.075\n",
      "x3            -0.1150      0.022     -5.111      0.000      -0.159      -0.070\n",
      "x4             0.0027      0.010      0.260      0.796      -0.018       0.023\n",
      "==============================================================================\n",
      "Omnibus:                       12.463   Durbin-Watson:                   1.797\n",
      "Prob(Omnibus):                  0.002   Jarque-Bera (JB):               20.014\n",
      "Skew:                           0.451   Prob(JB):                     4.51e-05\n",
      "Kurtosis:                       4.681   Cond. No.                         9.23\n",
      "==============================================================================\n",
      "\n",
      "Notes:\n",
      "[1] Standard Errors assume that the covariance matrix of the errors is correctly specified.\n"
     ]
    }
   ],
   "source": [
    "# Time series regressions\n",
    "#X = sm.add_constant(factors)\n",
    "xdata = sm.add_constant(factors)\n",
    "ydata = excessReturns[\"ME2 OP2\"]\n",
    "ts_res = sm.OLS(ydata,xdata).fit()\n",
    "alpha = ts_res.params[0]\n",
    "beta = ts_res.params[1:]\n",
    "avgExcessReturns = mean(excessReturns, 0)\n",
    "# Cross-section regression\n",
    "\n",
    "print(alpha)\n",
    "print(beta)\n",
    "\n",
    "print(ts_res.summary())"
   ]
  },
  {
   "cell_type": "markdown",
   "metadata": {},
   "source": [
    "Big size and high operating profit"
   ]
  },
  {
   "cell_type": "code",
   "execution_count": 10,
   "metadata": {},
   "outputs": [
    {
     "name": "stdout",
     "output_type": "stream",
     "text": [
      "-0.004349135361965545\n",
      "x1    0.963600\n",
      "x2   -0.154157\n",
      "x3   -0.270009\n",
      "x4   -0.012532\n",
      "dtype: float64\n",
      "                            OLS Regression Results                            \n",
      "==============================================================================\n",
      "Dep. Variable:               BIG HiOP   R-squared:                       0.986\n",
      "Model:                            OLS   Adj. R-squared:                  0.985\n",
      "Method:                 Least Squares   F-statistic:                     2186.\n",
      "Date:                Mon, 18 Apr 2022   Prob (F-statistic):          4.99e-116\n",
      "Time:                        02:52:11   Log-Likelihood:                -110.67\n",
      "No. Observations:                 132   AIC:                             231.3\n",
      "Df Residuals:                     127   BIC:                             245.8\n",
      "Df Model:                           4                                         \n",
      "Covariance Type:            nonrobust                                         \n",
      "==============================================================================\n",
      "                 coef    std err          t      P>|t|      [0.025      0.975]\n",
      "------------------------------------------------------------------------------\n",
      "const         -0.0043      0.052     -0.084      0.933      -0.107       0.099\n",
      "x1             0.9636      0.015     64.286      0.000       0.934       0.993\n",
      "x2            -0.1542      0.029     -5.340      0.000      -0.211      -0.097\n",
      "x3            -0.2700      0.025    -10.935      0.000      -0.319      -0.221\n",
      "x4            -0.0125      0.011     -1.090      0.278      -0.035       0.010\n",
      "==============================================================================\n",
      "Omnibus:                        1.391   Durbin-Watson:                   1.682\n",
      "Prob(Omnibus):                  0.499   Jarque-Bera (JB):                0.937\n",
      "Skew:                          -0.120   Prob(JB):                        0.626\n",
      "Kurtosis:                       3.336   Cond. No.                         9.23\n",
      "==============================================================================\n",
      "\n",
      "Notes:\n",
      "[1] Standard Errors assume that the covariance matrix of the errors is correctly specified.\n"
     ]
    }
   ],
   "source": [
    "# Time series regressions\n",
    "#X = sm.add_constant(factors)\n",
    "xdata = sm.add_constant(factors)\n",
    "ydata = excessReturns[\"BIG HiOP\"]\n",
    "ts_res = sm.OLS(ydata,xdata).fit()\n",
    "alpha = ts_res.params[0]\n",
    "beta = ts_res.params[1:]\n",
    "avgExcessReturns = mean(excessReturns, 0)\n",
    "# Cross-section regression\n",
    "\n",
    "print(alpha)\n",
    "print(beta)\n",
    "\n",
    "print(ts_res.summary())"
   ]
  }
 ],
 "metadata": {
  "interpreter": {
   "hash": "733f4f1d7c25e2c8c61708c6eff464d85a5c38c23ff1dfdc44a48268df46ea30"
  },
  "kernelspec": {
   "display_name": "Python 3.9.12 ('base')",
   "language": "python",
   "name": "python3"
  },
  "language_info": {
   "codemirror_mode": {
    "name": "ipython",
    "version": 3
   },
   "file_extension": ".py",
   "mimetype": "text/x-python",
   "name": "python",
   "nbconvert_exporter": "python",
   "pygments_lexer": "ipython3",
   "version": "3.9.12"
  },
  "orig_nbformat": 4
 },
 "nbformat": 4,
 "nbformat_minor": 2
}
