{
 "cells": [
  {
   "cell_type": "code",
   "execution_count": 1,
   "metadata": {},
   "outputs": [],
   "source": [
    "from numpy import mat, cov, mean, hstack, multiply,sqrt,diag, \\\n",
    "    squeeze, ones, array, vstack, kron, zeros, eye, savez_compressed\n",
    "from numpy.linalg import inv\n",
    "from scipy.stats import chi2\n",
    "import pandas as pd\n",
    "import statsmodels.api as sm"
   ]
  },
  {
   "cell_type": "code",
   "execution_count": 2,
   "metadata": {},
   "outputs": [
    {
     "name": "stdout",
     "output_type": "stream",
     "text": [
      "     SMALL LoOP  ME1 OP2  SMALL HiOP  BIG LoOP  ME2 OP2  BIG HiOP\n",
      "0       -3.3026  -3.1598     -3.0180   -1.6594  -3.3932   -4.3976\n",
      "1        5.0917   4.3672      5.5928    4.1050   3.1106    3.0375\n",
      "2        8.5470   6.9778      8.9776    6.8188   6.5279    5.1332\n",
      "3        6.9269   5.6479      7.0434    0.5109   1.6161    1.7946\n",
      "4       -8.7735  -7.5393     -6.3509   -8.1344  -7.4226   -8.0214\n",
      "..          ...      ...         ...       ...      ...       ...\n",
      "127      4.8602   5.2357      9.1691    5.0714   5.9023    9.3106\n",
      "128     -2.3113  -5.5384     -3.7676   -2.7273  -4.2734   -3.8428\n",
      "129      1.2411   5.1636      2.6158   -0.4713  -0.2169   -3.7004\n",
      "130     21.2074  16.8662     22.6006   16.0072  12.9344   10.2833\n",
      "131     10.9333   8.3363      8.8706    5.6986   4.9519    3.9439\n",
      "\n",
      "[132 rows x 6 columns]\n"
     ]
    }
   ],
   "source": [
    "data = pd.read_csv('Fama_French_4_factors_US_ME_Profit.csv')\n",
    "\n",
    "# Split using both named colums and ix for larger blocks\n",
    "factors = data[['Mkt-RF', 'SMB', 'HML','ESG']].values\n",
    "factors = mat(factors)\n",
    "riskfree = data['RF'].values\n",
    "portfolios = data.iloc[:, 6:]\n",
    "\n",
    "# Shape information\n",
    "T,K = factors.shape\n",
    "T,N = portfolios.shape\n",
    "# Reshape rf and compute excess returns\n",
    "riskfree.shape = T,1\n",
    "excessReturns = portfolios - riskfree\n",
    "\n",
    "print(excessReturns)"
   ]
  },
  {
   "cell_type": "markdown",
   "metadata": {},
   "source": [
    "Small size and low operating profit"
   ]
  },
  {
   "cell_type": "code",
   "execution_count": 3,
   "metadata": {},
   "outputs": [
    {
     "name": "stdout",
     "output_type": "stream",
     "text": [
      "-0.14513205924858696\n",
      "x1    1.053248\n",
      "x2    1.080048\n",
      "x3    0.039786\n",
      "x4    0.003563\n",
      "dtype: float64\n",
      "                            OLS Regression Results                            \n",
      "==============================================================================\n",
      "Dep. Variable:             SMALL LoOP   R-squared:                       0.975\n",
      "Model:                            OLS   Adj. R-squared:                  0.974\n",
      "Method:                 Least Squares   F-statistic:                     1252.\n",
      "Date:                Sun, 17 Apr 2022   Prob (F-statistic):          5.83e-101\n",
      "Time:                        02:40:18   Log-Likelihood:                -181.15\n",
      "No. Observations:                 132   AIC:                             372.3\n",
      "Df Residuals:                     127   BIC:                             386.7\n",
      "Df Model:                           4                                         \n",
      "Covariance Type:            nonrobust                                         \n",
      "==============================================================================\n",
      "                 coef    std err          t      P>|t|      [0.025      0.975]\n",
      "------------------------------------------------------------------------------\n",
      "const         -0.1451      0.097     -1.496      0.137      -0.337       0.047\n",
      "x1             1.0532      0.025     41.758      0.000       1.003       1.103\n",
      "x2             1.0800      0.040     26.973      0.000       1.001       1.159\n",
      "x3             0.0398      0.034      1.159      0.248      -0.028       0.108\n",
      "x4             0.0036      0.007      0.498      0.619      -0.011       0.018\n",
      "==============================================================================\n",
      "Omnibus:                        0.104   Durbin-Watson:                   1.932\n",
      "Prob(Omnibus):                  0.950   Jarque-Bera (JB):                0.146\n",
      "Skew:                          -0.065   Prob(JB):                        0.930\n",
      "Kurtosis:                       2.902   Cond. No.                         17.1\n",
      "==============================================================================\n",
      "\n",
      "Notes:\n",
      "[1] Standard Errors assume that the covariance matrix of the errors is correctly specified.\n"
     ]
    }
   ],
   "source": [
    "# Time series regressions\n",
    "#X = sm.add_constant(factors)\n",
    "xdata = sm.add_constant(factors)\n",
    "ydata = excessReturns[\"SMALL LoOP\"]\n",
    "ts_res = sm.OLS(ydata,xdata).fit()\n",
    "alpha = ts_res.params[0]\n",
    "beta = ts_res.params[1:]\n",
    "avgExcessReturns = mean(excessReturns, 0)\n",
    "# Cross-section regression\n",
    "\n",
    "print(alpha)\n",
    "print(beta)\n",
    "\n",
    "print(ts_res.summary())"
   ]
  },
  {
   "cell_type": "markdown",
   "metadata": {},
   "source": [
    "Medium size and first quantile operating profit"
   ]
  },
  {
   "cell_type": "code",
   "execution_count": 4,
   "metadata": {},
   "outputs": [
    {
     "name": "stdout",
     "output_type": "stream",
     "text": [
      "0.17319382319229698\n",
      "x1    0.910033\n",
      "x2    0.864206\n",
      "x3    0.379132\n",
      "x4   -0.007876\n",
      "dtype: float64\n",
      "                            OLS Regression Results                            \n",
      "==============================================================================\n",
      "Dep. Variable:                ME1 OP2   R-squared:                       0.979\n",
      "Model:                            OLS   Adj. R-squared:                  0.978\n",
      "Method:                 Least Squares   F-statistic:                     1451.\n",
      "Date:                Sun, 17 Apr 2022   Prob (F-statistic):          6.31e-105\n",
      "Time:                        02:40:45   Log-Likelihood:                -158.90\n",
      "No. Observations:                 132   AIC:                             327.8\n",
      "Df Residuals:                     127   BIC:                             342.2\n",
      "Df Model:                           4                                         \n",
      "Covariance Type:            nonrobust                                         \n",
      "==============================================================================\n",
      "                 coef    std err          t      P>|t|      [0.025      0.975]\n",
      "------------------------------------------------------------------------------\n",
      "const          0.1732      0.082      2.113      0.037       0.011       0.335\n",
      "x1             0.9100      0.021     42.704      0.000       0.868       0.952\n",
      "x2             0.8642      0.034     25.545      0.000       0.797       0.931\n",
      "x3             0.3791      0.029     13.078      0.000       0.322       0.436\n",
      "x4            -0.0079      0.006     -1.304      0.195      -0.020       0.004\n",
      "==============================================================================\n",
      "Omnibus:                        0.192   Durbin-Watson:                   1.906\n",
      "Prob(Omnibus):                  0.908   Jarque-Bera (JB):                0.337\n",
      "Skew:                          -0.069   Prob(JB):                        0.845\n",
      "Kurtosis:                       2.794   Cond. No.                         17.1\n",
      "==============================================================================\n",
      "\n",
      "Notes:\n",
      "[1] Standard Errors assume that the covariance matrix of the errors is correctly specified.\n"
     ]
    }
   ],
   "source": [
    "# Time series regressions\n",
    "#X = sm.add_constant(factors)\n",
    "xdata = sm.add_constant(factors)\n",
    "ydata = excessReturns[\"ME1 OP2\"]\n",
    "ts_res = sm.OLS(ydata,xdata).fit()\n",
    "alpha = ts_res.params[0]\n",
    "beta = ts_res.params[1:]\n",
    "avgExcessReturns = mean(excessReturns, 0)\n",
    "# Cross-section regression\n",
    "\n",
    "print(alpha)\n",
    "print(beta)\n",
    "\n",
    "print(ts_res.summary())"
   ]
  },
  {
   "cell_type": "markdown",
   "metadata": {},
   "source": [
    "Small size and high operating profit"
   ]
  },
  {
   "cell_type": "code",
   "execution_count": 5,
   "metadata": {},
   "outputs": [
    {
     "name": "stdout",
     "output_type": "stream",
     "text": [
      "-0.03851035293131024\n",
      "x1    1.118945\n",
      "x2    0.884612\n",
      "x3    0.313808\n",
      "x4   -0.019720\n",
      "dtype: float64\n",
      "                            OLS Regression Results                            \n",
      "==============================================================================\n",
      "Dep. Variable:             SMALL HiOP   R-squared:                       0.959\n",
      "Model:                            OLS   Adj. R-squared:                  0.957\n",
      "Method:                 Least Squares   F-statistic:                     735.4\n",
      "Date:                Sun, 17 Apr 2022   Prob (F-statistic):           9.15e-87\n",
      "Time:                        02:41:13   Log-Likelihood:                -223.23\n",
      "No. Observations:                 132   AIC:                             456.5\n",
      "Df Residuals:                     127   BIC:                             470.9\n",
      "Df Model:                           4                                         \n",
      "Covariance Type:            nonrobust                                         \n",
      "==============================================================================\n",
      "                 coef    std err          t      P>|t|      [0.025      0.975]\n",
      "------------------------------------------------------------------------------\n",
      "const         -0.0385      0.133     -0.289      0.773      -0.303       0.226\n",
      "x1             1.1189      0.035     32.253      0.000       1.050       1.188\n",
      "x2             0.8846      0.055     16.062      0.000       0.776       0.994\n",
      "x3             0.3138      0.047      6.649      0.000       0.220       0.407\n",
      "x4            -0.0197      0.010     -2.005      0.047      -0.039      -0.000\n",
      "==============================================================================\n",
      "Omnibus:                       20.430   Durbin-Watson:                   2.051\n",
      "Prob(Omnibus):                  0.000   Jarque-Bera (JB):               82.730\n",
      "Skew:                          -0.330   Prob(JB):                     1.08e-18\n",
      "Kurtosis:                       6.822   Cond. No.                         17.1\n",
      "==============================================================================\n",
      "\n",
      "Notes:\n",
      "[1] Standard Errors assume that the covariance matrix of the errors is correctly specified.\n"
     ]
    }
   ],
   "source": [
    "# Time series regressions\n",
    "#X = sm.add_constant(factors)\n",
    "xdata = sm.add_constant(factors)\n",
    "ydata = excessReturns[\"SMALL HiOP\"]\n",
    "ts_res = sm.OLS(ydata,xdata).fit()\n",
    "alpha = ts_res.params[0]\n",
    "beta = ts_res.params[1:]\n",
    "avgExcessReturns = mean(excessReturns, 0)\n",
    "# Cross-section regression\n",
    "\n",
    "print(alpha)\n",
    "print(beta)\n",
    "\n",
    "print(ts_res.summary())"
   ]
  },
  {
   "cell_type": "markdown",
   "metadata": {},
   "source": [
    "Big size and low operating profit"
   ]
  },
  {
   "cell_type": "code",
   "execution_count": 6,
   "metadata": {},
   "outputs": [
    {
     "name": "stdout",
     "output_type": "stream",
     "text": [
      "-0.1873988373308858\n",
      "x1    1.089884\n",
      "x2    0.141255\n",
      "x3    0.157433\n",
      "x4    0.004166\n",
      "dtype: float64\n",
      "                            OLS Regression Results                            \n",
      "==============================================================================\n",
      "Dep. Variable:               BIG LoOP   R-squared:                       0.945\n",
      "Model:                            OLS   Adj. R-squared:                  0.944\n",
      "Method:                 Least Squares   F-statistic:                     550.0\n",
      "Date:                Sun, 17 Apr 2022   Prob (F-statistic):           3.84e-79\n",
      "Time:                        02:42:53   Log-Likelihood:                -207.83\n",
      "No. Observations:                 132   AIC:                             425.7\n",
      "Df Residuals:                     127   BIC:                             440.1\n",
      "Df Model:                           4                                         \n",
      "Covariance Type:            nonrobust                                         \n",
      "==============================================================================\n",
      "                 coef    std err          t      P>|t|      [0.025      0.975]\n",
      "------------------------------------------------------------------------------\n",
      "const         -0.1874      0.119     -1.578      0.117      -0.422       0.048\n",
      "x1             1.0899      0.031     35.302      0.000       1.029       1.151\n",
      "x2             0.1413      0.049      2.882      0.005       0.044       0.238\n",
      "x3             0.1574      0.042      3.748      0.000       0.074       0.241\n",
      "x4             0.0042      0.009      0.476      0.635      -0.013       0.021\n",
      "==============================================================================\n",
      "Omnibus:                        0.767   Durbin-Watson:                   1.847\n",
      "Prob(Omnibus):                  0.681   Jarque-Bera (JB):                0.869\n",
      "Skew:                           0.098   Prob(JB):                        0.648\n",
      "Kurtosis:                       2.655   Cond. No.                         17.1\n",
      "==============================================================================\n",
      "\n",
      "Notes:\n",
      "[1] Standard Errors assume that the covariance matrix of the errors is correctly specified.\n"
     ]
    }
   ],
   "source": [
    "# Time series regressions\n",
    "#X = sm.add_constant(factors)\n",
    "xdata = sm.add_constant(factors)\n",
    "ydata = excessReturns[\"BIG LoOP\"]\n",
    "ts_res = sm.OLS(ydata,xdata).fit()\n",
    "alpha = ts_res.params[0]\n",
    "beta = ts_res.params[1:]\n",
    "avgExcessReturns = mean(excessReturns, 0)\n",
    "# Cross-section regression\n",
    "\n",
    "print(alpha)\n",
    "print(beta)\n",
    "\n",
    "print(ts_res.summary())"
   ]
  },
  {
   "cell_type": "markdown",
   "metadata": {},
   "source": [
    "Medium size and second quantile operating profit"
   ]
  },
  {
   "cell_type": "code",
   "execution_count": 7,
   "metadata": {},
   "outputs": [
    {
     "name": "stdout",
     "output_type": "stream",
     "text": [
      "0.04591449539985686\n",
      "x1    0.967215\n",
      "x2   -0.057444\n",
      "x3    0.110193\n",
      "x4   -0.006566\n",
      "dtype: float64\n",
      "                            OLS Regression Results                            \n",
      "==============================================================================\n",
      "Dep. Variable:                ME2 OP2   R-squared:                       0.983\n",
      "Model:                            OLS   Adj. R-squared:                  0.982\n",
      "Method:                 Least Squares   F-statistic:                     1815.\n",
      "Date:                Sun, 17 Apr 2022   Prob (F-statistic):          5.54e-111\n",
      "Time:                        02:43:38   Log-Likelihood:                -109.08\n",
      "No. Observations:                 132   AIC:                             228.2\n",
      "Df Residuals:                     127   BIC:                             242.6\n",
      "Df Model:                           4                                         \n",
      "Covariance Type:            nonrobust                                         \n",
      "==============================================================================\n",
      "                 coef    std err          t      P>|t|      [0.025      0.975]\n",
      "------------------------------------------------------------------------------\n",
      "const          0.0459      0.056      0.817      0.415      -0.065       0.157\n",
      "x1             0.9672      0.015     66.201      0.000       0.938       0.996\n",
      "x2            -0.0574      0.023     -2.477      0.015      -0.103      -0.012\n",
      "x3             0.1102      0.020      5.544      0.000       0.071       0.150\n",
      "x4            -0.0066      0.004     -1.585      0.115      -0.015       0.002\n",
      "==============================================================================\n",
      "Omnibus:                       18.926   Durbin-Watson:                   2.191\n",
      "Prob(Omnibus):                  0.000   Jarque-Bera (JB):               42.928\n",
      "Skew:                          -0.550   Prob(JB):                     4.77e-10\n",
      "Kurtosis:                       5.568   Cond. No.                         17.1\n",
      "==============================================================================\n",
      "\n",
      "Notes:\n",
      "[1] Standard Errors assume that the covariance matrix of the errors is correctly specified.\n"
     ]
    }
   ],
   "source": [
    "# Time series regressions\n",
    "#X = sm.add_constant(factors)\n",
    "xdata = sm.add_constant(factors)\n",
    "ydata = excessReturns[\"ME2 OP2\"]\n",
    "ts_res = sm.OLS(ydata,xdata).fit()\n",
    "alpha = ts_res.params[0]\n",
    "beta = ts_res.params[1:]\n",
    "avgExcessReturns = mean(excessReturns, 0)\n",
    "# Cross-section regression\n",
    "\n",
    "print(alpha)\n",
    "print(beta)\n",
    "\n",
    "print(ts_res.summary())"
   ]
  },
  {
   "cell_type": "markdown",
   "metadata": {},
   "source": [
    "Big size and high operating profit"
   ]
  },
  {
   "cell_type": "code",
   "execution_count": 8,
   "metadata": {},
   "outputs": [
    {
     "name": "stdout",
     "output_type": "stream",
     "text": [
      "0.04776873848596619\n",
      "x1    0.993732\n",
      "x2   -0.157186\n",
      "x3   -0.152301\n",
      "x4    0.001124\n",
      "dtype: float64\n",
      "                            OLS Regression Results                            \n",
      "==============================================================================\n",
      "Dep. Variable:               BIG HiOP   R-squared:                       0.979\n",
      "Model:                            OLS   Adj. R-squared:                  0.978\n",
      "Method:                 Least Squares   F-statistic:                     1465.\n",
      "Date:                Sun, 17 Apr 2022   Prob (F-statistic):          3.43e-105\n",
      "Time:                        02:45:09   Log-Likelihood:                -117.58\n",
      "No. Observations:                 132   AIC:                             245.2\n",
      "Df Residuals:                     127   BIC:                             259.6\n",
      "Df Model:                           4                                         \n",
      "Covariance Type:            nonrobust                                         \n",
      "==============================================================================\n",
      "                 coef    std err          t      P>|t|      [0.025      0.975]\n",
      "------------------------------------------------------------------------------\n",
      "const          0.0478      0.060      0.797      0.427      -0.071       0.166\n",
      "x1             0.9937      0.016     63.774      0.000       0.963       1.025\n",
      "x2            -0.1572      0.025     -6.354      0.000      -0.206      -0.108\n",
      "x3            -0.1523      0.021     -7.185      0.000      -0.194      -0.110\n",
      "x4             0.0011      0.004      0.254      0.800      -0.008       0.010\n",
      "==============================================================================\n",
      "Omnibus:                        1.115   Durbin-Watson:                   2.008\n",
      "Prob(Omnibus):                  0.573   Jarque-Bera (JB):                0.684\n",
      "Skew:                           0.081   Prob(JB):                        0.710\n",
      "Kurtosis:                       3.313   Cond. No.                         17.1\n",
      "==============================================================================\n",
      "\n",
      "Notes:\n",
      "[1] Standard Errors assume that the covariance matrix of the errors is correctly specified.\n"
     ]
    }
   ],
   "source": [
    "# Time series regressions\n",
    "#X = sm.add_constant(factors)\n",
    "xdata = sm.add_constant(factors)\n",
    "ydata = excessReturns[\"BIG HiOP\"]\n",
    "ts_res = sm.OLS(ydata,xdata).fit()\n",
    "alpha = ts_res.params[0]\n",
    "beta = ts_res.params[1:]\n",
    "avgExcessReturns = mean(excessReturns, 0)\n",
    "# Cross-section regression\n",
    "\n",
    "print(alpha)\n",
    "print(beta)\n",
    "\n",
    "print(ts_res.summary())"
   ]
  }
 ],
 "metadata": {
  "interpreter": {
   "hash": "733f4f1d7c25e2c8c61708c6eff464d85a5c38c23ff1dfdc44a48268df46ea30"
  },
  "kernelspec": {
   "display_name": "Python 3.9.12 ('base')",
   "language": "python",
   "name": "python3"
  },
  "language_info": {
   "codemirror_mode": {
    "name": "ipython",
    "version": 3
   },
   "file_extension": ".py",
   "mimetype": "text/x-python",
   "name": "python",
   "nbconvert_exporter": "python",
   "pygments_lexer": "ipython3",
   "version": "3.9.12"
  },
  "orig_nbformat": 4
 },
 "nbformat": 4,
 "nbformat_minor": 2
}
