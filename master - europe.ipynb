{
 "cells": [
  {
   "cell_type": "code",
   "execution_count": 1,
   "metadata": {},
   "outputs": [],
   "source": [
    "import pandas as pd\n",
    "import numpy as np"
   ]
  },
  {
   "cell_type": "markdown",
   "metadata": {},
   "source": [
    "### getting companie and their reprisk"
   ]
  },
  {
   "cell_type": "code",
   "execution_count": 2,
   "metadata": {},
   "outputs": [],
   "source": [
    "import wrds"
   ]
  },
  {
   "cell_type": "code",
   "execution_count": 215,
   "metadata": {},
   "outputs": [
    {
     "name": "stdout",
     "output_type": "stream",
     "text": [
      "Loading library list...\n",
      "Done\n"
     ]
    }
   ],
   "source": [
    "conn = wrds.Connection(wrds_username='jongmok1031')"
   ]
  },
  {
   "cell_type": "code",
   "execution_count": 216,
   "metadata": {},
   "outputs": [],
   "source": [
    "eu_coourties = ['Austria', 'Belgium', 'Bulgaria', 'Croatia', 'Republic of Cyprus', 'Czech Republic', \n",
    "'Denmark', 'Estonia', 'Finland', 'France', 'Germany', 'Greece', 'Hungary', 'Ireland',\n",
    "'Italy', 'Latvia', 'Lithuania', 'Luxembourg', 'Malta', \n",
    "'Netherlands', 'Poland', 'Portugal', 'Romania', 'Slovakia', 'Slovenia', 'Spain', 'Sweden']"
   ]
  },
  {
   "cell_type": "code",
   "execution_count": 217,
   "metadata": {},
   "outputs": [],
   "source": [
    "for country in eu_coourties:\n",
    "    query = conn.raw_sql(\"\"\"select ri.*, ci.primary_ISIN, ci.name, ci.headquarter_country\n",
    "                            from reprisk.pm_rri_data ri\n",
    "                            left join reprisk.pm_company_identifiers ci\n",
    "                            on ri.reprisk_id = ci.reprisk_id\n",
    "                            where ci.headquarter_country = '\"\"\" + country + \"\"\"' and ci.primary_isin is not null\n",
    "                            \"\"\", date_cols=['date'])\n",
    "    EU_companies_t = pd.DataFrame(data=query)\n",
    "    if country == 'Austria':\n",
    "        EU_companies = EU_companies_t\n",
    "    else:\n",
    "        EU_companies = pd.concat([EU_companies,EU_companies_t])"
   ]
  },
  {
   "cell_type": "code",
   "execution_count": 218,
   "metadata": {},
   "outputs": [
    {
     "data": {
      "text/html": [
       "<div>\n",
       "<style scoped>\n",
       "    .dataframe tbody tr th:only-of-type {\n",
       "        vertical-align: middle;\n",
       "    }\n",
       "\n",
       "    .dataframe tbody tr th {\n",
       "        vertical-align: top;\n",
       "    }\n",
       "\n",
       "    .dataframe thead th {\n",
       "        text-align: right;\n",
       "    }\n",
       "</style>\n",
       "<table border=\"1\" class=\"dataframe\">\n",
       "  <thead>\n",
       "    <tr style=\"text-align: right;\">\n",
       "      <th></th>\n",
       "      <th>reprisk_id</th>\n",
       "      <th>date</th>\n",
       "      <th>current_rri</th>\n",
       "      <th>rri_trend</th>\n",
       "      <th>peak_rri</th>\n",
       "      <th>peak_rri_date</th>\n",
       "      <th>reprisk_rating</th>\n",
       "      <th>country_sector_average</th>\n",
       "      <th>environmental_percentage</th>\n",
       "      <th>social_percentage</th>\n",
       "      <th>governance_percentage</th>\n",
       "      <th>primary_isin</th>\n",
       "      <th>name</th>\n",
       "      <th>headquarter_country</th>\n",
       "    </tr>\n",
       "  </thead>\n",
       "  <tbody>\n",
       "    <tr>\n",
       "      <td>0</td>\n",
       "      <td>10481</td>\n",
       "      <td>2007-01-31</td>\n",
       "      <td>0.0</td>\n",
       "      <td>0.0</td>\n",
       "      <td>0.0</td>\n",
       "      <td>None</td>\n",
       "      <td>AAA</td>\n",
       "      <td>0.0</td>\n",
       "      <td>0.0</td>\n",
       "      <td>0.0</td>\n",
       "      <td>0.0</td>\n",
       "      <td>AT0000785555</td>\n",
       "      <td>Semperit AG Holding</td>\n",
       "      <td>Austria</td>\n",
       "    </tr>\n",
       "    <tr>\n",
       "      <td>1</td>\n",
       "      <td>10481</td>\n",
       "      <td>2007-02-28</td>\n",
       "      <td>0.0</td>\n",
       "      <td>0.0</td>\n",
       "      <td>0.0</td>\n",
       "      <td>None</td>\n",
       "      <td>AAA</td>\n",
       "      <td>0.0</td>\n",
       "      <td>0.0</td>\n",
       "      <td>0.0</td>\n",
       "      <td>0.0</td>\n",
       "      <td>AT0000785555</td>\n",
       "      <td>Semperit AG Holding</td>\n",
       "      <td>Austria</td>\n",
       "    </tr>\n",
       "    <tr>\n",
       "      <td>2</td>\n",
       "      <td>10481</td>\n",
       "      <td>2007-03-31</td>\n",
       "      <td>0.0</td>\n",
       "      <td>0.0</td>\n",
       "      <td>0.0</td>\n",
       "      <td>None</td>\n",
       "      <td>AAA</td>\n",
       "      <td>0.0</td>\n",
       "      <td>0.0</td>\n",
       "      <td>0.0</td>\n",
       "      <td>0.0</td>\n",
       "      <td>AT0000785555</td>\n",
       "      <td>Semperit AG Holding</td>\n",
       "      <td>Austria</td>\n",
       "    </tr>\n",
       "    <tr>\n",
       "      <td>3</td>\n",
       "      <td>10481</td>\n",
       "      <td>2007-04-30</td>\n",
       "      <td>0.0</td>\n",
       "      <td>0.0</td>\n",
       "      <td>0.0</td>\n",
       "      <td>None</td>\n",
       "      <td>AAA</td>\n",
       "      <td>0.0</td>\n",
       "      <td>0.0</td>\n",
       "      <td>0.0</td>\n",
       "      <td>0.0</td>\n",
       "      <td>AT0000785555</td>\n",
       "      <td>Semperit AG Holding</td>\n",
       "      <td>Austria</td>\n",
       "    </tr>\n",
       "    <tr>\n",
       "      <td>4</td>\n",
       "      <td>10481</td>\n",
       "      <td>2007-05-31</td>\n",
       "      <td>0.0</td>\n",
       "      <td>0.0</td>\n",
       "      <td>0.0</td>\n",
       "      <td>None</td>\n",
       "      <td>AAA</td>\n",
       "      <td>0.0</td>\n",
       "      <td>0.0</td>\n",
       "      <td>0.0</td>\n",
       "      <td>0.0</td>\n",
       "      <td>AT0000785555</td>\n",
       "      <td>Semperit AG Holding</td>\n",
       "      <td>Austria</td>\n",
       "    </tr>\n",
       "    <tr>\n",
       "      <td>...</td>\n",
       "      <td>...</td>\n",
       "      <td>...</td>\n",
       "      <td>...</td>\n",
       "      <td>...</td>\n",
       "      <td>...</td>\n",
       "      <td>...</td>\n",
       "      <td>...</td>\n",
       "      <td>...</td>\n",
       "      <td>...</td>\n",
       "      <td>...</td>\n",
       "      <td>...</td>\n",
       "      <td>...</td>\n",
       "      <td>...</td>\n",
       "      <td>...</td>\n",
       "    </tr>\n",
       "    <tr>\n",
       "      <td>39811</td>\n",
       "      <td>8608</td>\n",
       "      <td>2020-08-31</td>\n",
       "      <td>0.0</td>\n",
       "      <td>0.0</td>\n",
       "      <td>0.0</td>\n",
       "      <td>None</td>\n",
       "      <td>AAA</td>\n",
       "      <td>19.0</td>\n",
       "      <td>0.0</td>\n",
       "      <td>0.0</td>\n",
       "      <td>0.0</td>\n",
       "      <td>SE0005126729</td>\n",
       "      <td>PA Resources AB</td>\n",
       "      <td>Sweden</td>\n",
       "    </tr>\n",
       "    <tr>\n",
       "      <td>39812</td>\n",
       "      <td>8608</td>\n",
       "      <td>2020-09-30</td>\n",
       "      <td>0.0</td>\n",
       "      <td>0.0</td>\n",
       "      <td>0.0</td>\n",
       "      <td>None</td>\n",
       "      <td>AAA</td>\n",
       "      <td>19.0</td>\n",
       "      <td>0.0</td>\n",
       "      <td>0.0</td>\n",
       "      <td>0.0</td>\n",
       "      <td>SE0005126729</td>\n",
       "      <td>PA Resources AB</td>\n",
       "      <td>Sweden</td>\n",
       "    </tr>\n",
       "    <tr>\n",
       "      <td>39813</td>\n",
       "      <td>8608</td>\n",
       "      <td>2020-10-31</td>\n",
       "      <td>0.0</td>\n",
       "      <td>0.0</td>\n",
       "      <td>0.0</td>\n",
       "      <td>None</td>\n",
       "      <td>AAA</td>\n",
       "      <td>19.0</td>\n",
       "      <td>0.0</td>\n",
       "      <td>0.0</td>\n",
       "      <td>0.0</td>\n",
       "      <td>SE0005126729</td>\n",
       "      <td>PA Resources AB</td>\n",
       "      <td>Sweden</td>\n",
       "    </tr>\n",
       "    <tr>\n",
       "      <td>39814</td>\n",
       "      <td>8608</td>\n",
       "      <td>2020-11-30</td>\n",
       "      <td>0.0</td>\n",
       "      <td>0.0</td>\n",
       "      <td>0.0</td>\n",
       "      <td>None</td>\n",
       "      <td>AAA</td>\n",
       "      <td>19.0</td>\n",
       "      <td>0.0</td>\n",
       "      <td>0.0</td>\n",
       "      <td>0.0</td>\n",
       "      <td>SE0005126729</td>\n",
       "      <td>PA Resources AB</td>\n",
       "      <td>Sweden</td>\n",
       "    </tr>\n",
       "    <tr>\n",
       "      <td>39815</td>\n",
       "      <td>8608</td>\n",
       "      <td>2020-12-31</td>\n",
       "      <td>0.0</td>\n",
       "      <td>0.0</td>\n",
       "      <td>0.0</td>\n",
       "      <td>None</td>\n",
       "      <td>AAA</td>\n",
       "      <td>18.0</td>\n",
       "      <td>0.0</td>\n",
       "      <td>0.0</td>\n",
       "      <td>0.0</td>\n",
       "      <td>SE0005126729</td>\n",
       "      <td>PA Resources AB</td>\n",
       "      <td>Sweden</td>\n",
       "    </tr>\n",
       "  </tbody>\n",
       "</table>\n",
       "<p>420504 rows × 14 columns</p>\n",
       "</div>"
      ],
      "text/plain": [
       "      reprisk_id       date  current_rri  rri_trend  peak_rri peak_rri_date  \\\n",
       "0          10481 2007-01-31          0.0        0.0       0.0          None   \n",
       "1          10481 2007-02-28          0.0        0.0       0.0          None   \n",
       "2          10481 2007-03-31          0.0        0.0       0.0          None   \n",
       "3          10481 2007-04-30          0.0        0.0       0.0          None   \n",
       "4          10481 2007-05-31          0.0        0.0       0.0          None   \n",
       "...          ...        ...          ...        ...       ...           ...   \n",
       "39811       8608 2020-08-31          0.0        0.0       0.0          None   \n",
       "39812       8608 2020-09-30          0.0        0.0       0.0          None   \n",
       "39813       8608 2020-10-31          0.0        0.0       0.0          None   \n",
       "39814       8608 2020-11-30          0.0        0.0       0.0          None   \n",
       "39815       8608 2020-12-31          0.0        0.0       0.0          None   \n",
       "\n",
       "      reprisk_rating  country_sector_average  environmental_percentage  \\\n",
       "0                AAA                     0.0                       0.0   \n",
       "1                AAA                     0.0                       0.0   \n",
       "2                AAA                     0.0                       0.0   \n",
       "3                AAA                     0.0                       0.0   \n",
       "4                AAA                     0.0                       0.0   \n",
       "...              ...                     ...                       ...   \n",
       "39811            AAA                    19.0                       0.0   \n",
       "39812            AAA                    19.0                       0.0   \n",
       "39813            AAA                    19.0                       0.0   \n",
       "39814            AAA                    19.0                       0.0   \n",
       "39815            AAA                    18.0                       0.0   \n",
       "\n",
       "       social_percentage  governance_percentage  primary_isin  \\\n",
       "0                    0.0                    0.0  AT0000785555   \n",
       "1                    0.0                    0.0  AT0000785555   \n",
       "2                    0.0                    0.0  AT0000785555   \n",
       "3                    0.0                    0.0  AT0000785555   \n",
       "4                    0.0                    0.0  AT0000785555   \n",
       "...                  ...                    ...           ...   \n",
       "39811                0.0                    0.0  SE0005126729   \n",
       "39812                0.0                    0.0  SE0005126729   \n",
       "39813                0.0                    0.0  SE0005126729   \n",
       "39814                0.0                    0.0  SE0005126729   \n",
       "39815                0.0                    0.0  SE0005126729   \n",
       "\n",
       "                      name headquarter_country  \n",
       "0      Semperit AG Holding             Austria  \n",
       "1      Semperit AG Holding             Austria  \n",
       "2      Semperit AG Holding             Austria  \n",
       "3      Semperit AG Holding             Austria  \n",
       "4      Semperit AG Holding             Austria  \n",
       "...                    ...                 ...  \n",
       "39811      PA Resources AB              Sweden  \n",
       "39812      PA Resources AB              Sweden  \n",
       "39813      PA Resources AB              Sweden  \n",
       "39814      PA Resources AB              Sweden  \n",
       "39815      PA Resources AB              Sweden  \n",
       "\n",
       "[420504 rows x 14 columns]"
      ]
     },
     "execution_count": 218,
     "metadata": {},
     "output_type": "execute_result"
    }
   ],
   "source": [
    "EU_companies"
   ]
  },
  {
   "cell_type": "markdown",
   "metadata": {},
   "source": [
    "### getting tickers for the companies above"
   ]
  },
  {
   "cell_type": "code",
   "execution_count": 219,
   "metadata": {},
   "outputs": [],
   "source": [
    "from time import sleep\n",
    "import requests\n",
    "import timeit"
   ]
  },
  {
   "cell_type": "code",
   "execution_count": 220,
   "metadata": {},
   "outputs": [],
   "source": [
    "isins = list(EU_companies['primary_isin'].unique())"
   ]
  },
  {
   "cell_type": "code",
   "execution_count": 221,
   "metadata": {},
   "outputs": [
    {
     "data": {
      "text/plain": [
       "2503"
      ]
     },
     "execution_count": 221,
     "metadata": {},
     "output_type": "execute_result"
    }
   ],
   "source": [
    "len(isins)"
   ]
  },
  {
   "cell_type": "code",
   "execution_count": 222,
   "metadata": {},
   "outputs": [],
   "source": [
    "def get_ticker_form_isin(isin):\n",
    "\n",
    "    # https://www.openfigi.com/api\n",
    "    #import requests\n",
    "\n",
    "    url = 'https://api.openfigi.com/v1/mapping'\n",
    "    headers = {'Content-Type':'text/json', 'X-OPENFIGI-APIKEY':'46a82b66-6569-4077-b14a-2aa771bb933f' }\n",
    "    payload = '[{\"idType\":\"ID_ISIN\",\"idValue\":\"' + isin + '\"}]'\n",
    "\n",
    "    r = requests.post(url, headers=headers, data=payload)\n",
    "    \n",
    "    try:\n",
    "        return r.json()[0].get('data')[0].get('ticker'), r.json()[0].get('data')[0].get('exchCode')\n",
    "    # apparently this gets bloomberg exchange code\n",
    "    except:\n",
    "        return 'fail', 'fail'"
   ]
  },
  {
   "cell_type": "code",
   "execution_count": 230,
   "metadata": {},
   "outputs": [
    {
     "data": {
      "text/plain": [
       "915"
      ]
     },
     "execution_count": 230,
     "metadata": {},
     "output_type": "execute_result"
    }
   ],
   "source": [
    "i"
   ]
  },
  {
   "cell_type": "code",
   "execution_count": 229,
   "metadata": {},
   "outputs": [
    {
     "data": {
      "text/plain": [
       "'DE000WLB87S3'"
      ]
     },
     "execution_count": 229,
     "metadata": {},
     "output_type": "execute_result"
    }
   ],
   "source": [
    "isins[i]"
   ]
  },
  {
   "cell_type": "markdown",
   "metadata": {},
   "source": [
    "timeout at isin DE000WLB87S3, i = 915"
   ]
  },
  {
   "cell_type": "code",
   "execution_count": null,
   "metadata": {},
   "outputs": [],
   "source": [
    "#tickers = []\n",
    "#exch_codes = []"
   ]
  },
  {
   "cell_type": "code",
   "execution_count": 232,
   "metadata": {},
   "outputs": [
    {
     "name": "stdout",
     "output_type": "stream",
     "text": [
      "25 isins done 1578 to go\n",
      "25 isins done 1553 to go\n",
      "25 isins done 1528 to go\n",
      "25 isins done 1503 to go\n",
      "25 isins done 1478 to go\n",
      "25 isins done 1453 to go\n",
      "25 isins done 1428 to go\n",
      "25 isins done 1403 to go\n",
      "25 isins done 1378 to go\n",
      "25 isins done 1353 to go\n",
      "25 isins done 1328 to go\n",
      "25 isins done 1303 to go\n",
      "25 isins done 1278 to go\n",
      "25 isins done 1253 to go\n",
      "25 isins done 1228 to go\n",
      "25 isins done 1203 to go\n",
      "25 isins done 1178 to go\n",
      "25 isins done 1153 to go\n",
      "25 isins done 1128 to go\n",
      "25 isins done 1103 to go\n",
      "25 isins done 1078 to go\n",
      "25 isins done 1053 to go\n",
      "25 isins done 1028 to go\n",
      "25 isins done 1003 to go\n",
      "25 isins done 978 to go\n",
      "25 isins done 953 to go\n",
      "25 isins done 928 to go\n",
      "25 isins done 903 to go\n",
      "25 isins done 878 to go\n",
      "25 isins done 853 to go\n",
      "25 isins done 828 to go\n",
      "25 isins done 803 to go\n",
      "25 isins done 778 to go\n",
      "25 isins done 753 to go\n",
      "25 isins done 728 to go\n",
      "25 isins done 703 to go\n",
      "25 isins done 678 to go\n",
      "25 isins done 653 to go\n",
      "25 isins done 628 to go\n",
      "25 isins done 603 to go\n",
      "25 isins done 578 to go\n",
      "25 isins done 553 to go\n",
      "25 isins done 528 to go\n",
      "25 isins done 503 to go\n",
      "25 isins done 478 to go\n",
      "25 isins done 453 to go\n",
      "25 isins done 428 to go\n",
      "25 isins done 403 to go\n",
      "25 isins done 378 to go\n",
      "25 isins done 353 to go\n",
      "25 isins done 328 to go\n",
      "25 isins done 303 to go\n",
      "25 isins done 278 to go\n",
      "25 isins done 253 to go\n",
      "25 isins done 228 to go\n",
      "25 isins done 203 to go\n",
      "25 isins done 178 to go\n",
      "25 isins done 153 to go\n",
      "25 isins done 128 to go\n",
      "25 isins done 103 to go\n",
      "25 isins done 78 to go\n",
      "25 isins done 53 to go\n",
      "25 isins done 28 to go\n",
      "25 isins done 3 to go\n"
     ]
    }
   ],
   "source": [
    "for i in range(915, len(isins)):\n",
    "    if i%25 == 0 and i != 0:\n",
    "        print(\"25 isins done \" + str(len(isins) - i) + \" to go\")\n",
    "    \n",
    "    ticker, exch_code = get_ticker_form_isin(isins[i])\n",
    "    tickers.append(ticker)\n",
    "    exch_codes.append(exch_code)\n",
    "    \n",
    "    # API limit 25 per requests per 6 seconds\n",
    "    sleep(6/22)"
   ]
  },
  {
   "cell_type": "code",
   "execution_count": 233,
   "metadata": {
    "scrolled": true
   },
   "outputs": [],
   "source": [
    "isins_ticker = pd.DataFrame([isins, tickers, exch_codes]).T\n",
    "isins_ticker.columns = ['isin', 'ticker', 'exch_code_bl']"
   ]
  },
  {
   "cell_type": "code",
   "execution_count": 234,
   "metadata": {},
   "outputs": [
    {
     "data": {
      "text/html": [
       "<div>\n",
       "<style scoped>\n",
       "    .dataframe tbody tr th:only-of-type {\n",
       "        vertical-align: middle;\n",
       "    }\n",
       "\n",
       "    .dataframe tbody tr th {\n",
       "        vertical-align: top;\n",
       "    }\n",
       "\n",
       "    .dataframe thead th {\n",
       "        text-align: right;\n",
       "    }\n",
       "</style>\n",
       "<table border=\"1\" class=\"dataframe\">\n",
       "  <thead>\n",
       "    <tr style=\"text-align: right;\">\n",
       "      <th></th>\n",
       "      <th>isin</th>\n",
       "      <th>ticker</th>\n",
       "      <th>exch_code_bl</th>\n",
       "    </tr>\n",
       "  </thead>\n",
       "  <tbody>\n",
       "    <tr>\n",
       "      <td>0</td>\n",
       "      <td>AT0000785555</td>\n",
       "      <td>SEM</td>\n",
       "      <td>AV</td>\n",
       "    </tr>\n",
       "    <tr>\n",
       "      <td>1</td>\n",
       "      <td>AT0000A04AF6</td>\n",
       "      <td>fail</td>\n",
       "      <td>fail</td>\n",
       "    </tr>\n",
       "    <tr>\n",
       "      <td>2</td>\n",
       "      <td>AT0000A24UY3</td>\n",
       "      <td>BRLS 1.75 12/10/25</td>\n",
       "      <td>VIENNA</td>\n",
       "    </tr>\n",
       "    <tr>\n",
       "      <td>3</td>\n",
       "      <td>AT0000720206</td>\n",
       "      <td>LEIP</td>\n",
       "      <td>AV</td>\n",
       "    </tr>\n",
       "    <tr>\n",
       "      <td>4</td>\n",
       "      <td>AT0000758305</td>\n",
       "      <td>PAL</td>\n",
       "      <td>AV</td>\n",
       "    </tr>\n",
       "    <tr>\n",
       "      <td>...</td>\n",
       "      <td>...</td>\n",
       "      <td>...</td>\n",
       "      <td>...</td>\n",
       "    </tr>\n",
       "    <tr>\n",
       "      <td>2498</td>\n",
       "      <td>SE0000191827</td>\n",
       "      <td>ATRLJB</td>\n",
       "      <td>SS</td>\n",
       "    </tr>\n",
       "    <tr>\n",
       "      <td>2499</td>\n",
       "      <td>SE0010468918</td>\n",
       "      <td>LYKOA</td>\n",
       "      <td>SS</td>\n",
       "    </tr>\n",
       "    <tr>\n",
       "      <td>2500</td>\n",
       "      <td>SE0000936478</td>\n",
       "      <td>INJJF</td>\n",
       "      <td>US</td>\n",
       "    </tr>\n",
       "    <tr>\n",
       "      <td>2501</td>\n",
       "      <td>SE0011166974</td>\n",
       "      <td>FABG</td>\n",
       "      <td>SS</td>\n",
       "    </tr>\n",
       "    <tr>\n",
       "      <td>2502</td>\n",
       "      <td>SE0001493776</td>\n",
       "      <td>AAK</td>\n",
       "      <td>PZ</td>\n",
       "    </tr>\n",
       "  </tbody>\n",
       "</table>\n",
       "<p>2503 rows × 3 columns</p>\n",
       "</div>"
      ],
      "text/plain": [
       "              isin              ticker exch_code_bl\n",
       "0     AT0000785555                 SEM           AV\n",
       "1     AT0000A04AF6                fail         fail\n",
       "2     AT0000A24UY3  BRLS 1.75 12/10/25       VIENNA\n",
       "3     AT0000720206                LEIP           AV\n",
       "4     AT0000758305                 PAL           AV\n",
       "...            ...                 ...          ...\n",
       "2498  SE0000191827              ATRLJB           SS\n",
       "2499  SE0010468918               LYKOA           SS\n",
       "2500  SE0000936478               INJJF           US\n",
       "2501  SE0011166974                FABG           SS\n",
       "2502  SE0001493776                 AAK           PZ\n",
       "\n",
       "[2503 rows x 3 columns]"
      ]
     },
     "execution_count": 234,
     "metadata": {},
     "output_type": "execute_result"
    }
   ],
   "source": [
    "isins_ticker.to_csv('isins_ticker_eu.csv')"
   ]
  },
  {
   "cell_type": "code",
   "execution_count": null,
   "metadata": {},
   "outputs": [],
   "source": []
  },
  {
   "cell_type": "markdown",
   "metadata": {},
   "source": [
    "### getting monthly returns"
   ]
  },
  {
   "cell_type": "code",
   "execution_count": 235,
   "metadata": {},
   "outputs": [],
   "source": [
    "import pandas_datareader as web"
   ]
  },
  {
   "cell_type": "code",
   "execution_count": 236,
   "metadata": {},
   "outputs": [],
   "source": [
    "exchages_codes = pd.read_csv('Global Stock Exchanges.csv')\n",
    "exchages_codes['# of Stocks'] = exchages_codes['# of Stocks'].apply(lambda x: x.replace(',', ''))\n",
    "exchages_codes['# of Stocks'] = exchages_codes['# of Stocks'].astype(int)\n",
    "def get_eod_code_from_bloomberg(bloomberg_code):\n",
    "    try:\n",
    "        return exchages_codes[exchages_codes['Bloomberg Exchange Code'] == bloomberg_code]['EOD code'].values[0]\n",
    "    except:\n",
    "        try:\n",
    "            return exchages_codes[exchages_codes['Bloomberg Composite Code'] == bloomberg_code]\\\n",
    "                    [exchages_codes[exchages_codes['Bloomberg Composite Code'] == bloomberg_code]['# of Stocks'] == \n",
    "                     exchages_codes[exchages_codes['Bloomberg Composite Code'] == bloomberg_code]['# of Stocks'].max()]\\\n",
    "                    ['EOD code'].values[0]\n",
    "        except:\n",
    "            return 'fail'"
   ]
  },
  {
   "cell_type": "code",
   "execution_count": 237,
   "metadata": {},
   "outputs": [],
   "source": [
    "isins_ticker['exch_code_eod'] = isins_ticker['exch_code_bl'].apply(lambda x: get_eod_code_from_bloomberg(x))"
   ]
  },
  {
   "cell_type": "code",
   "execution_count": 238,
   "metadata": {},
   "outputs": [],
   "source": [
    "isins_ticker['ticker_final'] = isins_ticker['ticker'] + \".\" + isins_ticker['exch_code_eod']\n",
    "isins_ticker.loc[isins_ticker['ticker'] == 'fail','ticker_final'] = 'fail'"
   ]
  },
  {
   "cell_type": "code",
   "execution_count": 239,
   "metadata": {},
   "outputs": [],
   "source": [
    "isins_ticker.loc[isins_ticker['exch_code_eod'] == 'fail', 'ticker_final'] = 'fail'\n",
    "isins_ticker.loc[isins_ticker['exch_code_eod'] == 'US', 'ticker_final'] = isins_ticker[isins_ticker['exch_code_eod'] == 'US']['ticker']"
   ]
  },
  {
   "cell_type": "code",
   "execution_count": 255,
   "metadata": {},
   "outputs": [],
   "source": [
    "#isins_ticker.to_csv('isins_ticker_eu.csv', index = False)"
   ]
  },
  {
   "cell_type": "code",
   "execution_count": 265,
   "metadata": {},
   "outputs": [
    {
     "name": "stdout",
     "output_type": "stream",
     "text": [
      "20 requests, 2483 left\n",
      "20 requests, 2463 left\n",
      "20 requests, 2443 left\n",
      "20 requests, 2423 left\n",
      "20 requests, 2403 left\n",
      "20 requests, 2383 left\n",
      "20 requests, 2363 left\n",
      "20 requests, 2343 left\n",
      "20 requests, 2323 left\n",
      "20 requests, 2303 left\n",
      "20 requests, 2283 left\n",
      "20 requests, 2263 left\n",
      "20 requests, 2243 left\n",
      "20 requests, 2223 left\n",
      "20 requests, 2203 left\n",
      "20 requests, 2183 left\n",
      "20 requests, 2163 left\n",
      "20 requests, 2143 left\n",
      "20 requests, 2123 left\n",
      "20 requests, 2103 left\n",
      "20 requests, 2083 left\n",
      "20 requests, 2063 left\n",
      "20 requests, 2043 left\n",
      "20 requests, 2023 left\n",
      "20 requests, 2003 left\n",
      "20 requests, 1983 left\n",
      "20 requests, 1963 left\n",
      "20 requests, 1943 left\n",
      "20 requests, 1923 left\n",
      "20 requests, 1903 left\n",
      "20 requests, 1883 left\n",
      "20 requests, 1863 left\n",
      "20 requests, 1843 left\n",
      "20 requests, 1823 left\n",
      "20 requests, 1803 left\n",
      "20 requests, 1783 left\n",
      "20 requests, 1763 left\n",
      "20 requests, 1743 left\n",
      "20 requests, 1723 left\n",
      "20 requests, 1703 left\n",
      "20 requests, 1683 left\n",
      "20 requests, 1663 left\n",
      "20 requests, 1643 left\n",
      "20 requests, 1623 left\n",
      "20 requests, 1603 left\n",
      "20 requests, 1583 left\n",
      "20 requests, 1563 left\n",
      "20 requests, 1543 left\n",
      "20 requests, 1523 left\n",
      "20 requests, 1503 left\n",
      "20 requests, 1483 left\n",
      "20 requests, 1463 left\n",
      "20 requests, 1443 left\n",
      "20 requests, 1423 left\n",
      "20 requests, 1403 left\n",
      "20 requests, 1383 left\n",
      "20 requests, 1363 left\n",
      "20 requests, 1343 left\n",
      "20 requests, 1323 left\n",
      "20 requests, 1303 left\n",
      "20 requests, 1283 left\n",
      "20 requests, 1263 left\n",
      "20 requests, 1243 left\n",
      "20 requests, 1223 left\n",
      "20 requests, 1203 left\n",
      "20 requests, 1183 left\n",
      "20 requests, 1163 left\n",
      "20 requests, 1143 left\n",
      "20 requests, 1123 left\n",
      "20 requests, 1103 left\n",
      "20 requests, 1083 left\n",
      "20 requests, 1063 left\n",
      "20 requests, 1043 left\n",
      "20 requests, 1023 left\n",
      "20 requests, 1003 left\n",
      "20 requests, 983 left\n",
      "20 requests, 963 left\n",
      "20 requests, 943 left\n",
      "20 requests, 923 left\n",
      "20 requests, 903 left\n",
      "20 requests, 883 left\n",
      "20 requests, 863 left\n",
      "20 requests, 843 left\n",
      "20 requests, 823 left\n",
      "20 requests, 803 left\n",
      "20 requests, 783 left\n",
      "20 requests, 763 left\n",
      "20 requests, 743 left\n",
      "20 requests, 723 left\n",
      "20 requests, 703 left\n",
      "20 requests, 683 left\n",
      "20 requests, 663 left\n",
      "20 requests, 643 left\n",
      "20 requests, 623 left\n",
      "20 requests, 603 left\n",
      "20 requests, 583 left\n",
      "20 requests, 563 left\n",
      "20 requests, 543 left\n",
      "20 requests, 523 left\n",
      "20 requests, 503 left\n",
      "20 requests, 483 left\n",
      "20 requests, 463 left\n",
      "20 requests, 443 left\n",
      "20 requests, 423 left\n",
      "20 requests, 403 left\n",
      "20 requests, 383 left\n",
      "20 requests, 363 left\n",
      "20 requests, 343 left\n",
      "20 requests, 323 left\n",
      "20 requests, 303 left\n",
      "20 requests, 283 left\n",
      "20 requests, 263 left\n",
      "20 requests, 243 left\n",
      "20 requests, 223 left\n",
      "20 requests, 203 left\n",
      "20 requests, 183 left\n",
      "20 requests, 163 left\n",
      "20 requests, 143 left\n",
      "20 requests, 123 left\n",
      "20 requests, 103 left\n",
      "20 requests, 83 left\n",
      "20 requests, 63 left\n",
      "20 requests, 43 left\n",
      "20 requests, 23 left\n",
      "20 requests, 3 left\n"
     ]
    }
   ],
   "source": [
    "m_returns = pd.DataFrame(columns = ['date', 'monthly_return', 'ticker'])\n",
    "monthly_returns_t = pd.DataFrame(columns = ['date', 'monthly_return', 'ticker'])\n",
    "for i in range(isins_ticker.shape[0]):\n",
    "    ticker = isins_ticker.loc[i]['ticker']\n",
    "    if ticker != 'fail':\n",
    "        try:\n",
    "            returns = web.get_data_yahoo(ticker,\n",
    "                                start = \"2006-12-29\",\n",
    "                                end = \"2020-12-31\") # dates of reprisk data\n",
    "            monthly_returns_t = returns['Adj Close'].resample('M').ffill().pct_change()\n",
    "            monthly_returns_t = pd.DataFrame(monthly_returns_t[1:]).reset_index()\n",
    "            monthly_returns_t['ticker'] = ticker\n",
    "            monthly_returns_t.columns = ['date', 'monthly_return', 'ticker']\n",
    "        except:\n",
    "            monthly_returns_t['ticker'] = ticker\n",
    "            monthly_returns_t['monthly_return'] = 'fail'\n",
    "    else:\n",
    "        monthly_returns_t = pd.DataFrame(columns = ['date', 'monthly_return', 'ticker'])\n",
    "    m_returns = pd.concat([m_returns,monthly_returns_t])\n",
    "    if i%20 == 0 and i != 0:\n",
    "        print('20 requests, ' + str(isins_ticker.shape[0]-i) + ' left' )"
   ]
  },
  {
   "cell_type": "code",
   "execution_count": 266,
   "metadata": {},
   "outputs": [
    {
     "data": {
      "text/html": [
       "<div>\n",
       "<style scoped>\n",
       "    .dataframe tbody tr th:only-of-type {\n",
       "        vertical-align: middle;\n",
       "    }\n",
       "\n",
       "    .dataframe tbody tr th {\n",
       "        vertical-align: top;\n",
       "    }\n",
       "\n",
       "    .dataframe thead th {\n",
       "        text-align: right;\n",
       "    }\n",
       "</style>\n",
       "<table border=\"1\" class=\"dataframe\">\n",
       "  <thead>\n",
       "    <tr style=\"text-align: right;\">\n",
       "      <th></th>\n",
       "      <th>date</th>\n",
       "      <th>monthly_return</th>\n",
       "      <th>ticker</th>\n",
       "    </tr>\n",
       "  </thead>\n",
       "  <tbody>\n",
       "    <tr>\n",
       "      <td>0</td>\n",
       "      <td>2007-02-28</td>\n",
       "      <td>-0.0130159</td>\n",
       "      <td>SEM.VI</td>\n",
       "    </tr>\n",
       "    <tr>\n",
       "      <td>1</td>\n",
       "      <td>2007-03-31</td>\n",
       "      <td>0.0614345</td>\n",
       "      <td>SEM.VI</td>\n",
       "    </tr>\n",
       "    <tr>\n",
       "      <td>2</td>\n",
       "      <td>2007-04-30</td>\n",
       "      <td>0.0403031</td>\n",
       "      <td>SEM.VI</td>\n",
       "    </tr>\n",
       "    <tr>\n",
       "      <td>3</td>\n",
       "      <td>2007-05-31</td>\n",
       "      <td>0.00353618</td>\n",
       "      <td>SEM.VI</td>\n",
       "    </tr>\n",
       "    <tr>\n",
       "      <td>4</td>\n",
       "      <td>2007-06-30</td>\n",
       "      <td>-0.0535713</td>\n",
       "      <td>SEM.VI</td>\n",
       "    </tr>\n",
       "    <tr>\n",
       "      <td>...</td>\n",
       "      <td>...</td>\n",
       "      <td>...</td>\n",
       "      <td>...</td>\n",
       "    </tr>\n",
       "    <tr>\n",
       "      <td>61</td>\n",
       "      <td>2020-08-31</td>\n",
       "      <td>-0.0226059</td>\n",
       "      <td>HOVD.ST</td>\n",
       "    </tr>\n",
       "    <tr>\n",
       "      <td>62</td>\n",
       "      <td>2020-09-30</td>\n",
       "      <td>0.205752</td>\n",
       "      <td>HOVD.ST</td>\n",
       "    </tr>\n",
       "    <tr>\n",
       "      <td>63</td>\n",
       "      <td>2020-10-31</td>\n",
       "      <td>-0.0972477</td>\n",
       "      <td>HOVD.ST</td>\n",
       "    </tr>\n",
       "    <tr>\n",
       "      <td>64</td>\n",
       "      <td>2020-11-30</td>\n",
       "      <td>-0.115854</td>\n",
       "      <td>HOVD.ST</td>\n",
       "    </tr>\n",
       "    <tr>\n",
       "      <td>65</td>\n",
       "      <td>2020-12-31</td>\n",
       "      <td>0.00229882</td>\n",
       "      <td>HOVD.ST</td>\n",
       "    </tr>\n",
       "  </tbody>\n",
       "</table>\n",
       "<p>175042 rows × 3 columns</p>\n",
       "</div>"
      ],
      "text/plain": [
       "         date monthly_return   ticker\n",
       "0  2007-02-28     -0.0130159   SEM.VI\n",
       "1  2007-03-31      0.0614345   SEM.VI\n",
       "2  2007-04-30      0.0403031   SEM.VI\n",
       "3  2007-05-31     0.00353618   SEM.VI\n",
       "4  2007-06-30     -0.0535713   SEM.VI\n",
       "..        ...            ...      ...\n",
       "61 2020-08-31     -0.0226059  HOVD.ST\n",
       "62 2020-09-30       0.205752  HOVD.ST\n",
       "63 2020-10-31     -0.0972477  HOVD.ST\n",
       "64 2020-11-30      -0.115854  HOVD.ST\n",
       "65 2020-12-31     0.00229882  HOVD.ST\n",
       "\n",
       "[175042 rows x 3 columns]"
      ]
     },
     "execution_count": 266,
     "metadata": {},
     "output_type": "execute_result"
    }
   ],
   "source": [
    "m_returns"
   ]
  },
  {
   "cell_type": "code",
   "execution_count": 267,
   "metadata": {},
   "outputs": [],
   "source": [
    "#m_returns.to_csv('m_returns_eu.csv')"
   ]
  },
  {
   "cell_type": "code",
   "execution_count": null,
   "metadata": {},
   "outputs": [],
   "source": []
  },
  {
   "cell_type": "code",
   "execution_count": null,
   "metadata": {},
   "outputs": [],
   "source": []
  },
  {
   "cell_type": "code",
   "execution_count": null,
   "metadata": {},
   "outputs": [],
   "source": []
  },
  {
   "cell_type": "code",
   "execution_count": null,
   "metadata": {},
   "outputs": [],
   "source": []
  },
  {
   "cell_type": "code",
   "execution_count": null,
   "metadata": {},
   "outputs": [],
   "source": []
  },
  {
   "cell_type": "markdown",
   "metadata": {},
   "source": [
    "## joining returns on reprisk data"
   ]
  },
  {
   "cell_type": "code",
   "execution_count": 244,
   "metadata": {},
   "outputs": [
    {
     "data": {
      "text/html": [
       "<div>\n",
       "<style scoped>\n",
       "    .dataframe tbody tr th:only-of-type {\n",
       "        vertical-align: middle;\n",
       "    }\n",
       "\n",
       "    .dataframe tbody tr th {\n",
       "        vertical-align: top;\n",
       "    }\n",
       "\n",
       "    .dataframe thead th {\n",
       "        text-align: right;\n",
       "    }\n",
       "</style>\n",
       "<table border=\"1\" class=\"dataframe\">\n",
       "  <thead>\n",
       "    <tr style=\"text-align: right;\">\n",
       "      <th></th>\n",
       "      <th>primary_isin</th>\n",
       "      <th>ticker</th>\n",
       "    </tr>\n",
       "  </thead>\n",
       "  <tbody>\n",
       "    <tr>\n",
       "      <td>0</td>\n",
       "      <td>AT0000785555</td>\n",
       "      <td>SEM.VI</td>\n",
       "    </tr>\n",
       "    <tr>\n",
       "      <td>1</td>\n",
       "      <td>AT0000A04AF6</td>\n",
       "      <td>fail</td>\n",
       "    </tr>\n",
       "    <tr>\n",
       "      <td>2</td>\n",
       "      <td>AT0000A24UY3</td>\n",
       "      <td>fail</td>\n",
       "    </tr>\n",
       "    <tr>\n",
       "      <td>3</td>\n",
       "      <td>AT0000720206</td>\n",
       "      <td>LEIP.VI</td>\n",
       "    </tr>\n",
       "    <tr>\n",
       "      <td>4</td>\n",
       "      <td>AT0000758305</td>\n",
       "      <td>PAL.VI</td>\n",
       "    </tr>\n",
       "    <tr>\n",
       "      <td>...</td>\n",
       "      <td>...</td>\n",
       "      <td>...</td>\n",
       "    </tr>\n",
       "    <tr>\n",
       "      <td>2498</td>\n",
       "      <td>SE0000191827</td>\n",
       "      <td>ATRLJB.ST</td>\n",
       "    </tr>\n",
       "    <tr>\n",
       "      <td>2499</td>\n",
       "      <td>SE0010468918</td>\n",
       "      <td>LYKOA.ST</td>\n",
       "    </tr>\n",
       "    <tr>\n",
       "      <td>2500</td>\n",
       "      <td>SE0000936478</td>\n",
       "      <td>INJJF</td>\n",
       "    </tr>\n",
       "    <tr>\n",
       "      <td>2501</td>\n",
       "      <td>SE0011166974</td>\n",
       "      <td>FABG.ST</td>\n",
       "    </tr>\n",
       "    <tr>\n",
       "      <td>2502</td>\n",
       "      <td>SE0001493776</td>\n",
       "      <td>fail</td>\n",
       "    </tr>\n",
       "  </tbody>\n",
       "</table>\n",
       "<p>2503 rows × 2 columns</p>\n",
       "</div>"
      ],
      "text/plain": [
       "      primary_isin     ticker\n",
       "0     AT0000785555     SEM.VI\n",
       "1     AT0000A04AF6       fail\n",
       "2     AT0000A24UY3       fail\n",
       "3     AT0000720206    LEIP.VI\n",
       "4     AT0000758305     PAL.VI\n",
       "...            ...        ...\n",
       "2498  SE0000191827  ATRLJB.ST\n",
       "2499  SE0010468918   LYKOA.ST\n",
       "2500  SE0000936478      INJJF\n",
       "2501  SE0011166974    FABG.ST\n",
       "2502  SE0001493776       fail\n",
       "\n",
       "[2503 rows x 2 columns]"
      ]
     },
     "execution_count": 244,
     "metadata": {},
     "output_type": "execute_result"
    }
   ],
   "source": [
    "isins_ticker = isins_ticker[['isin', 'ticker_final']]\n",
    "isins_ticker.columns = ['primary_isin', 'ticker']\n",
    "isins_ticker"
   ]
  },
  {
   "cell_type": "code",
   "execution_count": 276,
   "metadata": {},
   "outputs": [],
   "source": [
    "EU_companies = EU_companies.merge(isins_ticker, how = 'inner', on = 'primary_isin')"
   ]
  },
  {
   "cell_type": "code",
   "execution_count": 279,
   "metadata": {},
   "outputs": [],
   "source": [
    "EU_companies = EU_companies.merge(m_returns, how = 'left', on = ['ticker', 'date'])"
   ]
  },
  {
   "cell_type": "code",
   "execution_count": 281,
   "metadata": {},
   "outputs": [],
   "source": [
    "EU_companies = EU_companies[EU_companies['ticker'] != 'fail']"
   ]
  },
  {
   "cell_type": "code",
   "execution_count": 282,
   "metadata": {},
   "outputs": [],
   "source": [
    "EU_companies = EU_companies[EU_companies['monthly_return'] != 'fail']"
   ]
  },
  {
   "cell_type": "code",
   "execution_count": 283,
   "metadata": {},
   "outputs": [
    {
     "data": {
      "text/plain": [
       "1480"
      ]
     },
     "execution_count": 283,
     "metadata": {},
     "output_type": "execute_result"
    }
   ],
   "source": [
    "EU_companies['primary_isin'].nunique()"
   ]
  },
  {
   "cell_type": "code",
   "execution_count": 296,
   "metadata": {},
   "outputs": [
    {
     "data": {
      "text/plain": [
       "645"
      ]
     },
     "execution_count": 296,
     "metadata": {},
     "output_type": "execute_result"
    }
   ],
   "source": [
    "EU_companies[EU_companies['monthly_return'].notna()]['primary_isin'].nunique()"
   ]
  },
  {
   "cell_type": "code",
   "execution_count": 291,
   "metadata": {},
   "outputs": [],
   "source": [
    "#EU_companies.to_csv('1480_EU_companies.csv', index = False)"
   ]
  },
  {
   "cell_type": "code",
   "execution_count": 284,
   "metadata": {},
   "outputs": [],
   "source": [
    "from dateutil.relativedelta import relativedelta"
   ]
  },
  {
   "cell_type": "code",
   "execution_count": 285,
   "metadata": {},
   "outputs": [],
   "source": [
    "import matplotlib.pyplot as plt"
   ]
  },
  {
   "cell_type": "code",
   "execution_count": 286,
   "metadata": {},
   "outputs": [],
   "source": [
    "n_companies = []\n",
    "months = []\n",
    "for i in range(167):\n",
    "    months.append(i)\n",
    "    n_companies.append(EU_companies[EU_companies['date'] == EU_companies['date'][0] \n",
    "                                   + relativedelta(months=i)]['monthly_return'].notna().sum())"
   ]
  },
  {
   "cell_type": "code",
   "execution_count": 287,
   "metadata": {},
   "outputs": [
    {
     "data": {
      "text/plain": [
       "Text(0.5, 0, 'time in months from start 2007 to end 2020')"
      ]
     },
     "execution_count": 287,
     "metadata": {},
     "output_type": "execute_result"
    },
    {
     "data": {
      "image/png": "[encoded data removed]",
      "text/plain": [
       "<Figure size 432x288 with 1 Axes>"
      ]
     },
     "metadata": {
      "needs_background": "light"
     },
     "output_type": "display_data"
    }
   ],
   "source": [
    "plt.plot(months, n_companies)\n",
    "plt.title('# number of companies with data on m returns')\n",
    "plt.xlabel('time in months from start 2007 to end 2020')"
   ]
  },
  {
   "cell_type": "code",
   "execution_count": 288,
   "metadata": {},
   "outputs": [],
   "source": [
    "# these ticker might be wrong, should better delete them\n",
    "counter = 0\n",
    "bad_tickers = []\n",
    "for i in list(EU_companies['ticker'].unique()):\n",
    "    if i.find(' ') > 0:\n",
    "        bad_tickers.append(i)\n",
    "        counter += 1"
   ]
  },
  {
   "cell_type": "code",
   "execution_count": 289,
   "metadata": {},
   "outputs": [
    {
     "data": {
      "text/plain": [
       "[]"
      ]
     },
     "execution_count": 289,
     "metadata": {},
     "output_type": "execute_result"
    }
   ],
   "source": [
    "bad_tickers"
   ]
  },
  {
   "cell_type": "code",
   "execution_count": null,
   "metadata": {},
   "outputs": [],
   "source": []
  },
  {
   "cell_type": "code",
   "execution_count": null,
   "metadata": {},
   "outputs": [],
   "source": []
  },
  {
   "cell_type": "code",
   "execution_count": null,
   "metadata": {},
   "outputs": [],
   "source": []
  }
 ],
 "metadata": {
  "kernelspec": {
   "display_name": "Python 3",
   "language": "python",
   "name": "python3"
  },
  "language_info": {
   "codemirror_mode": {
    "name": "ipython",
    "version": 3
   },
   "file_extension": ".py",
   "mimetype": "text/x-python",
   "name": "python",
   "nbconvert_exporter": "python",
   "pygments_lexer": "ipython3",
   "version": "3.7.1"
  }
 },
 "nbformat": 4,
 "nbformat_minor": 2
}
